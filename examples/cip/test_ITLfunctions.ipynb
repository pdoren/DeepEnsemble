{
 "cells": [
  {
   "cell_type": "code",
   "execution_count": 1,
   "metadata": {
    "collapsed": true
   },
   "outputs": [],
   "source": [
    "import theano.tensor as T\n",
    "from theano import config, shared\n",
    "import numpy as np\n"
   ]
  },
  {
   "cell_type": "code",
   "execution_count": 2,
   "metadata": {
    "collapsed": false
   },
   "outputs": [],
   "source": [
    "import sys\n",
    "import os\n",
    "sys.path.insert(0, os.path.abspath('../../../'))\n",
    "\n",
    "from deepensemble.utils.utils_functions import ActivationFunctions\n",
    "from deepensemble.models.sequential import Sequential\n",
    "from deepensemble.layers.dense import Dense\n",
    "from deepensemble.metrics import *\n",
    "from deepensemble.utils import *\n",
    "\n",
    "from collections import OrderedDict\n"
   ]
  },
  {
   "cell_type": "code",
   "execution_count": 3,
   "metadata": {
    "collapsed": true
   },
   "outputs": [],
   "source": [
    "A = np.array([[0, 1], [0, 1], [1, 0], [1, 0]], dtype=config.floatX)\n",
    "B = np.array([[1, 0], [1, 0], [0, 1], [0, 1]], dtype=config.floatX)\n",
    "C = np.array([[0, 1], [1, 0], [0, 1], [0, 1]], dtype=config.floatX)"
   ]
  },
  {
   "cell_type": "code",
   "execution_count": 4,
   "metadata": {
    "collapsed": false
   },
   "outputs": [
    {
     "name": "stdout",
     "output_type": "stream",
     "text": [
      "Silverman: 0.3824\n"
     ]
    }
   ],
   "source": [
    "s = ITLFunctions.silverman(A)\n",
    "print('Silverman: %0.4g' % s.eval())"
   ]
  },
  {
   "cell_type": "code",
   "execution_count": 5,
   "metadata": {
    "collapsed": true
   },
   "outputs": [],
   "source": [
    "diffA = ITLFunctions.get_diff([A])\n",
    "diffB = ITLFunctions.get_diff([B])\n",
    "diffC = ITLFunctions.get_diff([C])"
   ]
  },
  {
   "cell_type": "code",
   "execution_count": 6,
   "metadata": {
    "collapsed": false
   },
   "outputs": [
    {
     "data": {
      "text/plain": [
       "array([4, 4, 2])"
      ]
     },
     "execution_count": 6,
     "metadata": {},
     "output_type": "execute_result"
    }
   ],
   "source": [
    "diffA[0].shape.eval()"
   ]
  },
  {
   "cell_type": "code",
   "execution_count": 7,
   "metadata": {
    "collapsed": false
   },
   "outputs": [],
   "source": [
    "KA = ITLFunctions.kernel_gauss_diff(diffA, np.sqrt(2) * s)\n",
    "KB = ITLFunctions.kernel_gauss_diff(diffB, np.sqrt(2) * s)\n",
    "KC = ITLFunctions.kernel_gauss_diff(diffC, np.sqrt(2) * s)"
   ]
  },
  {
   "cell_type": "code",
   "execution_count": 8,
   "metadata": {
    "collapsed": false
   },
   "outputs": [],
   "source": [
    "dKA = T.squeeze(T.sum(ITLFunctions.get_prod(A, A), axis=-1))\n",
    "dKB = T.squeeze(T.sum(ITLFunctions.get_prod(A, B), axis=-1))\n",
    "dKC = T.squeeze(T.sum(ITLFunctions.get_prod(A, C), axis=-1))"
   ]
  },
  {
   "cell_type": "code",
   "execution_count": 9,
   "metadata": {
    "collapsed": false
   },
   "outputs": [],
   "source": [
    "KKA = KA * (1. - dKA) \n",
    "KKB = KB * (1. - dKB) \n",
    "KKC = KC * (1. - dKC) "
   ]
  },
  {
   "cell_type": "code",
   "execution_count": 10,
   "metadata": {
    "collapsed": false
   },
   "outputs": [
    {
     "data": {
      "text/plain": [
       "array([[ 0.29432702,  0.29432702,  0.00962862,  0.00962862],\n",
       "       [ 0.29432702,  0.29432702,  0.00962862,  0.00962862],\n",
       "       [ 0.00962862,  0.00962862,  0.29432702,  0.29432702],\n",
       "       [ 0.00962862,  0.00962862,  0.29432702,  0.29432702]])"
      ]
     },
     "execution_count": 10,
     "metadata": {},
     "output_type": "execute_result"
    }
   ],
   "source": [
    "KA.eval()"
   ]
  },
  {
   "cell_type": "code",
   "execution_count": 11,
   "metadata": {
    "collapsed": false
   },
   "outputs": [
    {
     "data": {
      "text/plain": [
       "array([[ 0.29432702,  0.29432702,  0.00962862,  0.00962862],\n",
       "       [ 0.29432702,  0.29432702,  0.00962862,  0.00962862],\n",
       "       [ 0.00962862,  0.00962862,  0.29432702,  0.29432702],\n",
       "       [ 0.00962862,  0.00962862,  0.29432702,  0.29432702]])"
      ]
     },
     "execution_count": 11,
     "metadata": {},
     "output_type": "execute_result"
    }
   ],
   "source": [
    "KKB.eval()"
   ]
  },
  {
   "cell_type": "code",
   "execution_count": 12,
   "metadata": {
    "collapsed": false
   },
   "outputs": [
    {
     "data": {
      "text/plain": [
       "array([[ 0.29432702,  0.00962862,  0.29432702,  0.29432702],\n",
       "       [ 0.00962862,  0.29432702,  0.00962862,  0.00962862],\n",
       "       [ 0.29432702,  0.00962862,  0.29432702,  0.29432702],\n",
       "       [ 0.29432702,  0.00962862,  0.29432702,  0.29432702]])"
      ]
     },
     "execution_count": 12,
     "metadata": {},
     "output_type": "execute_result"
    }
   ],
   "source": [
    "KC.eval()"
   ]
  },
  {
   "cell_type": "code",
   "execution_count": 17,
   "metadata": {
    "collapsed": false
   },
   "outputs": [
    {
     "name": "stdout",
     "output_type": "stream",
     "text": [
      "V_nc: 0.0231, V_J: 0.04336, V_M: 0.0231\n"
     ]
    }
   ],
   "source": [
    "V_nc, V_J, V_M = ITLFunctions.get_cip([A], A, s)\n",
    "print(\"V_nc: %.4g, V_J: %.4g, V_M: %.4g\" % (V_nc.eval(), V_J.eval(), V_M.eval()))"
   ]
  },
  {
   "cell_type": "code",
   "execution_count": 18,
   "metadata": {
    "collapsed": false
   },
   "outputs": [
    {
     "name": "stdout",
     "output_type": "stream",
     "text": [
      "V_nc: 0.0231, V_J: 0.04336, V_M: 0.0231\n"
     ]
    }
   ],
   "source": [
    "V_nc, V_J, V_M = ITLFunctions.get_cip([B], A, s)\n",
    "print(\"V_nc: %.4g, V_J: %.4g, V_M: %.4g\" % (V_nc.eval(), V_J.eval(), V_M.eval()))"
   ]
  },
  {
   "cell_type": "code",
   "execution_count": 19,
   "metadata": {
    "collapsed": false
   },
   "outputs": [
    {
     "name": "stdout",
     "output_type": "stream",
     "text": [
      "V_nc: 0.02851, V_J: 0.03357, V_M: 0.02851\n"
     ]
    }
   ],
   "source": [
    "V_nc, V_J, V_M = ITLFunctions.get_cip([C], A, s)\n",
    "print(\"V_nc: %.4g, V_J: %.4g, V_M: %.4g\" % (V_nc.eval(), V_J.eval(), V_M.eval()))"
   ]
  }
 ],
 "metadata": {
  "kernelspec": {
   "display_name": "Python 3",
   "language": "python",
   "name": "python3"
  },
  "language_info": {
   "codemirror_mode": {
    "name": "ipython",
    "version": 3
   },
   "file_extension": ".py",
   "mimetype": "text/x-python",
   "name": "python",
   "nbconvert_exporter": "python",
   "pygments_lexer": "ipython3",
   "version": "3.4.6"
  }
 },
 "nbformat": 4,
 "nbformat_minor": 2
}
