{
 "cells": [
  {
   "cell_type": "markdown",
   "metadata": {},
   "source": [
    "<h3 align=\"center\">EL7006 Redes Neuronales y Teoría de la Información para el aprendizaje</h3>\n",
    "<h3 align=\"center\">Tarea 3: Análisis no lineal de series de tiempo</h3>"
   ]
  },
  {
   "cell_type": "code",
   "execution_count": null,
   "metadata": {
    "collapsed": true
   },
   "outputs": [],
   "source": [
    "import numpy as np, scipy, scipy.stats\n",
    "from pandas import Series, DataFrame\n",
    "import scipy.optimize\n",
    "%matplotlib inline\n",
    "import matplotlib.pylab as plt\n",
    "from mpl_toolkits.mplot3d import Axes3D\n",
    "import subprocess\n",
    "import platform\n",
    "\n",
    "\"\"\"\n",
    "Very unsafe way to call tisean methods! Use carefully\n",
    "\"\"\"\n",
    "def tisean_mutual_information(data_in, max_tau=20):\n",
    "    np.savetxt(\"tmp/data_in\", data_in)\n",
    "    if platform.system() == 'Windows':\n",
    "        pargs = ['./bin/mutual.exe', '-V', '0','-D',str(max_tau),'-o', 'tmp/data_out','tmp/data_in'] \n",
    "    else:\n",
    "        pargs = ['./bin/mutual', '-V', '0','-D',str(max_tau),'-o', 'tmp/data_out','tmp/data_in'] \n",
    "    p = subprocess.Popen(pargs)\n",
    "    p.wait()\n",
    "    data_out = np.loadtxt(\"tmp/data_out\", comments='#')\n",
    "    # Return tau and MI\n",
    "    return data_out[:, 0], data_out[:, 1]\n",
    "\n",
    "def tisean_FNN(data_in, tau=20, max_dim=10):\n",
    "    np.savetxt(\"tmp/data_in\", data_in)\n",
    "    if platform.system() == 'Windows':\n",
    "        pargs = ['./bin/false_nearest.exe', '-V','0','-d',str(tau),'-m','1','-M','1,'+str(max_dim),'-f','3','-o','tmp/data_out','tmp/data_in'] \n",
    "    else:\n",
    "        pargs = ['./bin/false_nearest', '-V','0','-d',str(tau),'-m','1','-M','1,'+str(max_dim),'-f','3','-o','tmp/data_out','tmp/data_in'] \n",
    "    p = subprocess.Popen(pargs)\n",
    "    p.wait()\n",
    "    data_out = np.loadtxt(\"tmp/data_out\", comments='#')\n",
    "    # Return dim and fraction of FNN\n",
    "    return data_out[:, 0], data_out[:, 1]\n",
    "\n",
    "def tisean_c2(data_in, tau=20, max_dim=10):\n",
    "    np.savetxt(\"tmp/data_in\", data_in)\n",
    "    c2 = list()\n",
    "    d2 = list()\n",
    "    if platform.system() == 'Windows': \n",
    "        pargs = ['./bin/d2.exe', '-V','0','-d',str(tau),'-#','200','-r','0.1','-M','1,'+str(max_dim),'-o','tmp/data_out','tmp/data_in'] \n",
    "    else:\n",
    "        pargs = ['./bin/d2', '-V','0','-d',str(tau),'-#','200','-r','0.1','-M','1,'+str(max_dim),'-o','tmp/data_out','tmp/data_in'] \n",
    "    p = subprocess.Popen(pargs)\n",
    "    p.wait()\n",
    "    data_out = np.loadtxt(\"tmp/data_out.c2\", comments='#')\n",
    "    init_val = data_out[0, 0]\n",
    "    last_init = 0\n",
    "    # Search other init vals\n",
    "    for i in range(1, data_out.shape[0]):\n",
    "        if data_out[i, 0] == init_val:\n",
    "            c2.append(data_out[last_init:i, 0:2])\n",
    "            last_init = i\n",
    "    c2.append(data_out[last_init:, 0:2])\n",
    "    data_out = np.loadtxt(\"tmp/data_out.d2\", comments='#')\n",
    "    init_val = data_out[0, 0]\n",
    "    last_init = 0\n",
    "    # Search other init vals\n",
    "    for i in range(1, data_out.shape[0]):\n",
    "        if data_out[i, 0] == init_val:\n",
    "            d2.append(data_out[last_init:i, 0:2])\n",
    "            last_init = i\n",
    "    d2.append(data_out[last_init:, 0:2])\n",
    "    # Return correlation sum and correlation dimension\n",
    "    return c2, d2"
   ]
  },
  {
   "cell_type": "markdown",
   "metadata": {},
   "source": [
    "### Rossler attractor\n",
    "\n",
    "Generated according to:\n",
    "\n",
    "$$\n",
    "    \\frac{dx}{dt} = -y -z,\n",
    "$$\n",
    "$$\n",
    "    \\frac{dy}{dt} = x + ay,\n",
    "$$\n",
    "$$\n",
    "    \\frac{dz}{dt} = b + z(x-c),\n",
    "$$\n",
    "where $a$, $b$ and $c$ are the parameters of the system"
   ]
  },
  {
   "cell_type": "code",
   "execution_count": null,
   "metadata": {
    "collapsed": true
   },
   "outputs": [],
   "source": [
    "\"\"\"\n",
    "From http://connor-johnson.com/2014/03/04/fractal-dimension-and-box-counting/\n",
    "\"\"\"\n",
    "def generate(data_length, odes, state, parameters):\n",
    "    data = np.zeros([state.shape[0], data_length])\n",
    "    for i in xrange(5000):\n",
    "        state = rk4(odes, state, parameters)\n",
    "    for i in xrange(data_length):\n",
    "        state = rk4(odes, state, parameters)\n",
    "        data[:, i] = state\n",
    "    return data\n",
    "\n",
    "def rk4(odes, state, parameters, dt=0.01):\n",
    "    k1 = dt * odes(state, parameters)\n",
    "    k2 = dt * odes(state + 0.5 * k1, parameters)\n",
    "    k3 = dt * odes(state + 0.5 * k2, parameters)\n",
    "    k4 = dt * odes(state + k3, parameters)\n",
    "    return state + (k1 + 2 * k2 + 2 * k3 + k4) / 6\n",
    "\n",
    "def rossler_odes((x, y, z), (a, b, c)):\n",
    "    return np.array([-y - z, x + a * y, b + z * (x - c)])\n",
    "\n",
    "def rossler_generate(data_length, a=0.2, b=0.2, c=18.0):\n",
    "    return generate(data_length, rossler_odes, np.array([10.0, 0.0, 0.0]), np.array([a, b, c]))"
   ]
  },
  {
   "cell_type": "code",
   "execution_count": null,
   "metadata": {
    "collapsed": false
   },
   "outputs": [],
   "source": [
    "attractor = rossler_generate(10000, c=5.7) # c=2.5, 5.7\n",
    "data = attractor[0]\n",
    "\n",
    "plt.close()\n",
    "fig = plt.figure(figsize=(12,4))\n",
    "ax = fig.add_subplot(1,2,1, projection='3d')\n",
    "ax.plot(attractor[0], attractor[1], attractor[2])\n",
    "ax.set_xlabel('X')\n",
    "ax.set_ylabel('Y')\n",
    "ax.set_zlabel('Z')\n",
    "plt.title('Rossler attractor')\n",
    "ax.view_init(elev=30., azim=-45)\n",
    "ax = fig.add_subplot(1,2,2)\n",
    "ax.plot(data)\n",
    "plt.title('x(t)')\n",
    "ax.set_xlabel('Time')\n",
    "plt.grid('on')\n",
    "plt.tight_layout()"
   ]
  },
  {
   "cell_type": "markdown",
   "metadata": {},
   "source": [
    "### Mutual Information"
   ]
  },
  {
   "cell_type": "code",
   "execution_count": null,
   "metadata": {
    "collapsed": false
   },
   "outputs": [],
   "source": [
    "tau, mi = tisean_mutual_information(data, max_tau=1000) \n",
    "# Find first local minimum\n",
    "M = 20\n",
    "for tau_min in xrange(M, len(tau)-M):\n",
    "    if mi[tau_min] <= np.amin(mi[tau_min-M:tau_min+M]):\n",
    "        tau_min -=1\n",
    "        break\n",
    "\n",
    "print(\"First local minimum of MI found at lag %d\" % tau_min)\n",
    "fig = plt.figure(figsize=(6, 4))\n",
    "ax = fig.add_subplot(1,1,1)\n",
    "ax.plot(tau, mi)\n",
    "ax.set_xlabel('Delay')\n",
    "ax.set_ylabel('Mutual Information')\n",
    "ax.plot([tau_min, tau_min], [0.0, np.amax(mi)],'r--')\n",
    "plt.grid('on')\n",
    "plt.tight_layout()"
   ]
  },
  {
   "cell_type": "markdown",
   "metadata": {},
   "source": [
    "### False Nearest Neighbors"
   ]
  },
  {
   "cell_type": "code",
   "execution_count": null,
   "metadata": {
    "collapsed": false
   },
   "outputs": [],
   "source": [
    "dim, fnn = tisean_FNN(data, tau=1, max_dim=5)\n",
    "min_fraction = 0.001\n",
    "for i in range(0, len(dim)):\n",
    "    if fnn[i] < min_fraction:\n",
    "        break\n",
    "fig = plt.figure(figsize=(6, 4))\n",
    "ax = fig.add_subplot(1,1,1)\n",
    "ax.plot(dim, fnn)\n",
    "ax.plot([dim[i], dim[i]], [0, 1], 'r--')\n",
    "ax.set_xlabel('Dimension')\n",
    "ax.set_ylabel('Fraction of FNN')\n",
    "plt.grid('on')\n",
    "plt.tight_layout()"
   ]
  },
  {
   "cell_type": "markdown",
   "metadata": {},
   "source": [
    "### Correlation sum and Correlation dimension\n",
    "\n",
    "$$\n",
    "    C(m, \\varepsilon) = \\frac{1}{N_{pairs}} \\sum_{j=m}^N \\sum_{k<j-w} \\Sigma(\\varepsilon - |s_i - s_j| )\n",
    "$$\n",
    "\n",
    "$$\n",
    "   C(m, \\varepsilon) \\approx \\varepsilon^{D_2} \n",
    "$$"
   ]
  },
  {
   "cell_type": "code",
   "execution_count": null,
   "metadata": {
    "collapsed": false
   },
   "outputs": [],
   "source": [
    "def moving_average(interval, window_size):\n",
    "    window = np.ones(int(window_size))/float(window_size)\n",
    "    return np.convolve(interval, window, 'same')\n",
    "\n",
    "c2, d2 = tisean_c2(data, tau=1, max_dim=5)\n",
    "\n",
    "plt.close()\n",
    "fig = plt.figure(figsize=(12, 5))\n",
    "ax = fig.add_subplot(1, 2, 1)\n",
    "for i in range(0, len(c2)):\n",
    "    ax.plot(c2[i][:, 0], c2[i][:, 1], label='M:'+str(i+1))\n",
    "ax.set_xlabel('Epsilon')\n",
    "ax.set_ylabel('Correlation sum')\n",
    "ax.set_xscale('log')\n",
    "ax.set_yscale('log')\n",
    "ax.set_aspect(1)\n",
    "plt.grid('on')\n",
    "plt.legend(loc=4)\n",
    "ax = fig.add_subplot(1, 2, 2)\n",
    "for i in range(0, len(d2)):\n",
    "    ax.plot(d2[i][:, 0], moving_average(d2[i][:, 1], 20), label='M:'+str(i+1))\n",
    "ax.set_xlabel('Epsilon')\n",
    "ax.set_ylabel('Smoothed Correlation dimension')\n",
    "ax.set_xscale('log')\n",
    "plt.grid('on')\n",
    "plt.legend()\n",
    "plt.tight_layout()"
   ]
  },
  {
   "cell_type": "markdown",
   "metadata": {
    "collapsed": false
   },
   "source": [
    "### State space reconstruction"
   ]
  },
  {
   "cell_type": "code",
   "execution_count": null,
   "metadata": {
    "collapsed": false
   },
   "outputs": [],
   "source": [
    "M = 1\n",
    "T = 1\n",
    "ssr = np.zeros(shape=(len(data)-T, 3))\n",
    "for i in range(0, M):\n",
    "    ssr[:, i] = np.roll(data, -i*T)[:-T].flatten()\n",
    "\n",
    "# plot time delay embedding\n",
    "plt.close()\n",
    "fig = plt.figure(figsize=(12, 5))\n",
    "ax = fig.add_subplot(1,2,1, projection='3d')\n",
    "ax.set_xlabel('X(t)')\n",
    "ax.set_ylabel('Y(t)')\n",
    "ax.set_zlabel('Z(t)')\n",
    "ax.view_init(elev=30., azim=-45)\n",
    "ax.plot(attractor[0], attractor[1], attractor[2])\n",
    "plt.title('Original')\n",
    "\n",
    "ax = fig.add_subplot(1,2,2, projection='3d')\n",
    "ax.set_xlabel('X(t)')\n",
    "ax.set_ylabel('Y(t)')\n",
    "ax.set_zlabel('Z(t)')\n",
    "ax.view_init(elev=30., azim=-45)\n",
    "ax.plot(ssr[:, 0], ssr[:, 1], ssr[:, 2])\n",
    "plt.title('Reconstruction')\n",
    "plt.tight_layout()"
   ]
  },
  {
   "cell_type": "code",
   "execution_count": null,
   "metadata": {
    "collapsed": true
   },
   "outputs": [],
   "source": [
    ""
   ]
  }
 ],
 "metadata": {
  "kernelspec": {
   "display_name": "Python 2",
   "language": "python2",
   "name": "python2"
  },
  "language_info": {
   "codemirror_mode": {
    "name": "ipython",
    "version": 2.0
   },
   "file_extension": ".py",
   "mimetype": "text/x-python",
   "name": "python",
   "nbconvert_exporter": "python",
   "pygments_lexer": "ipython2",
   "version": "2.7.10"
  }
 },
 "nbformat": 4,
 "nbformat_minor": 0
}