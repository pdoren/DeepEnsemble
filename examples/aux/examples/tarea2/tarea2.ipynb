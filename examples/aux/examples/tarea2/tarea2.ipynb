{
 "cells": [
  {
   "cell_type": "markdown",
   "metadata": {},
   "source": [
    "<h2 align=\"center\"> EL7006 Redes Neuronales y Teorı́a de Información para el Aprendizaje</h2>\n",
    "<h2 align=\"center\"> Tarea 2: Regresor basado en ITL </h2>"
   ]
  },
  {
   "cell_type": "code",
   "execution_count": null,
   "metadata": {
    "collapsed": false
   },
   "outputs": [],
   "source": [
    "import numpy as np\n",
    "%matplotlib notebook\n",
    "import matplotlib.pylab as plt\n",
    "\n",
    "def train_regressor(x, z, Wi, method='MSE', sigma=1.0, lr=0.01, niter=1000):    \n",
    "    global a, b\n",
    "    w1 = Wi[0]\n",
    "    w2 = Wi[1]    \n",
    "    IEP = np.zeros(shape=(niter,))    \n",
    "    N = len(x)\n",
    "    if method is 'MEE':\n",
    "        dx = np.tile(x, (N, 1))\n",
    "        dx -= dx.T\n",
    "        dx2 = np.tile(x**2, (N, 1))\n",
    "        dx2 -= dx2.T\n",
    "    for k in xrange(0, niter):\n",
    "        e = z - (w1*x + w2*np.power(x, 2.0))\n",
    "        IEP[k] = np.mean(np.power(w1*x + w2*x**2 - a*x - b*x**2, 2.0))\n",
    "        if method is 'MEE':\n",
    "            de = np.tile(e, (N, 1))\n",
    "            de -= de.T\n",
    "            gradw1 = -1.0*np.sum(np.multiply(np.multiply(np.exp(-0.5*np.power(de, 2.0)/sigma**2), de), dx))\n",
    "            gradw2 = -1.0*np.sum(np.multiply(np.multiply(np.exp(-0.5*np.power(de, 2.0)/sigma**2), de), dx2))\n",
    "            w1 -= lr*gradw1/(np.sqrt(2.0*np.pi)*(sigma**3)*(N**2))\n",
    "            w2 -= lr*gradw2/(np.sqrt(2.0*np.pi)*(sigma**3)*(N**2))\n",
    "        elif method is 'MSE':\n",
    "            gradw1 =  2.0*np.sum(np.multiply(e, x))\n",
    "            gradw2 =  2.0*np.sum(np.multiply(e, x**2))\n",
    "            w1 += lr*gradw1\n",
    "            w2 += lr*gradw2\n",
    "    return [w1, w2], IEP"
   ]
  },
  {
   "cell_type": "markdown",
   "metadata": {},
   "source": [
    "### Generación de datos de entrenamiento"
   ]
  },
  {
   "cell_type": "code",
   "execution_count": null,
   "metadata": {
    "collapsed": true
   },
   "outputs": [],
   "source": [
    "a = 10.0 \n",
    "b = -2.0\n",
    "N = 100\n",
    "x = np.linspace(-2.0, 2.0, num=N);\n",
    "fx = a*x + b*x**2\n",
    "nu = np.random.randn(N,)*0.1\n",
    "nu[np.random.rand(N,) > 0.8] += 10.0\n",
    "z = fx + nu"
   ]
  },
  {
   "cell_type": "markdown",
   "metadata": {},
   "source": [
    "### Entrenamiento de regresores"
   ]
  },
  {
   "cell_type": "code",
   "execution_count": null,
   "metadata": {
    "collapsed": false
   },
   "outputs": [],
   "source": [
    "wi = np.random.rand(2);\n",
    "# 1000 iterations of MSE\n",
    "[wMSE, IEPE] = train_regressor(x, z, wi, method='MSE', lr=0.0002, niter=1000);\n",
    "# 200 iterations of MSE + 800 iterations of MEE\n",
    "[w_tmp, IEPE_tmp] = train_regressor(x, z, wi, method='MSE', lr=0.0002, niter=200);\n",
    "[wMEE, IEPC] = train_regressor(x, z, w_tmp, method='MEE', sigma=20.0, lr=1.0, niter=800);"
   ]
  },
  {
   "cell_type": "markdown",
   "metadata": {},
   "source": [
    "### Gráficas de desempeño para MSE y MEE"
   ]
  },
  {
   "cell_type": "code",
   "execution_count": null,
   "metadata": {
    "collapsed": false
   },
   "outputs": [],
   "source": [
    "plt.close()\n",
    "fig = plt.figure(figsize=(12, 5), dpi=80)\n",
    "ax = fig.add_subplot(1, 2, 1)\n",
    "ax.plot(x, fx, 'g-', label='Model', linewidth=2)\n",
    "ax.plot(x, z, 'k.', label='Observations ')\n",
    "ax.plot(x, wMSE[0]*x + wMSE[1]*x**2, 'r--', label='MSE regressor', linewidth=2)\n",
    "ax.plot(x, wMEE[0]*x + wMEE[1]*x**2, 'b--', label='MEE regressor', linewidth=2)\n",
    "#ax.plot(x,w1C*x+w2C*x.^2,'b--');\n",
    "plt.xlabel('x'); \n",
    "plt.ylabel('y');\n",
    "plt.legend(loc='lower right')\n",
    "ax = fig.add_subplot(1, 2, 2);\n",
    "ax.plot(np.arange(0, len(IEPE), step=1), IEPE, 'r-', label='MSE')\n",
    "ax.plot(np.arange(0, len(IEPE), step=1), np.concatenate((IEPE_tmp, IEPC)), 'b-', label='MEE')\n",
    "plt.xlabel('Iteration');\n",
    "plt.ylabel('E[(f(x) - g(w;x))^2]')\n",
    "plt.legend()\n",
    "print(\"Comparison between regressor weights:\")\n",
    "print(\"a = %0.4f, b = %0.4f\"  % (a, b))\n",
    "print(\"MSE: w1 = %0.4f, w2 = %0.4f\"  % (wMSE[0], wMSE[1]))\n",
    "print(\"MEE: w1 = %0.4f, w2 = %0.4f\"  % (wMEE[0], wMEE[1]))"
   ]
  },
  {
   "cell_type": "markdown",
   "metadata": {},
   "source": [
    "### Gráficas de la PDF del error para MSE y MEE"
   ]
  },
  {
   "cell_type": "code",
   "execution_count": null,
   "metadata": {
    "collapsed": false
   },
   "outputs": [],
   "source": [
    "plt.close()\n",
    "from sklearn.neighbors.kde import KernelDensity\n",
    "\n",
    "x_plot = np.linspace(-10, 10, 1000)[:, np.newaxis]\n",
    "kde = KernelDensity(kernel='gaussian', bandwidth=0.2)\n",
    "fig = plt.figure(figsize=(10, 5), dpi=100)\n",
    "ax = fig.add_subplot(1, 1, 1)\n",
    "kde.fit((fx - wMSE[0]*x - wMSE[1]*x**2)[:, np.newaxis])\n",
    "ax.plot(x_plot, np.exp(kde.score_samples(x_plot)), 'r-', label='MSE')\n",
    "kde.fit((fx - wMEE[0]*x - wMEE[1]*x**2)[:, np.newaxis])\n",
    "ax.plot(x_plot, np.exp(kde.score_samples(x_plot)), 'b-', label='MEE')\n",
    "plt.xlabel('Error')\n",
    "plt.ylabel('PDF of the error');\n",
    "plt.title(\"Comparison between reconstruction error probability density functions (pdf)\")\n",
    "plt.legend()"
   ]
  },
  {
   "cell_type": "code",
   "execution_count": null,
   "metadata": {
    "collapsed": true
   },
   "outputs": [],
   "source": []
  }
 ],
 "metadata": {
  "kernelspec": {
   "display_name": "Python 2",
   "language": "python2",
   "name": "python2"
  },
  "language_info": {
   "codemirror_mode": {
    "name": "ipython",
    "version": 2
   },
   "file_extension": ".py",
   "mimetype": "text/x-python",
   "name": "python",
   "nbconvert_exporter": "python",
   "pygments_lexer": "ipython2",
   "version": "2.7.10"
  }
 },
 "nbformat": 4,
 "nbformat_minor": 0
}
