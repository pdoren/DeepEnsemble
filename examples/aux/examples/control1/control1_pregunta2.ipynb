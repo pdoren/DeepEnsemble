{
 "cells": [
  {
   "cell_type": "markdown",
   "metadata": {},
   "source": [
    "### Generar la señal twinsine"
   ]
  },
  {
   "cell_type": "code",
   "execution_count": null,
   "metadata": {
    "collapsed": false
   },
   "outputs": [],
   "source": [
    "def create_dictionary(t, L=1):\n",
    "    N = len(t)\n",
    "    T = t[-1] - t[0]\n",
    "    f = np.arange(0, np.floor(N/2)/T, step=1/(T*L))\n",
    "    Phi = np.zeros(shape=(len(t), 2*len(f)))\n",
    "    for i in xrange(0, len(f)):\n",
    "        Phi[:, i] = np.cos(2.0*np.pi*f[i]*t);\n",
    "        Phi[:,len(f)+i] = np.sin(2.0*np.pi*f[i]*t)\n",
    "    return f, Phi\n",
    "\n",
    "def dft(x, Phi):\n",
    "    N = Phi.shape[0]\n",
    "    M = Phi.shape[1]\n",
    "    dS = np.multiply(np.tile(x[:, np.newaxis], (1, M)), Phi)\n",
    "    spectrum = np.power(np.sum(dS[:, :M/2], axis=0)/N, 2.0) + np.power(np.sum(dS[:, M/2:], axis=0)/N, 2.0)\n",
    "    return spectrum\n",
    "\n",
    "\"\"\"\n",
    "Linear programming solver on equivalent basis pursuit proble, does not work that well\n",
    "\"\"\"\n",
    "def bp(b, A):\n",
    "    print(\"Starting LP Basis Pursuit Routine\")\n",
    "    Nx = Phi.shape[0]\n",
    "    Nf = Phi.shape[1]\n",
    "    AA = np.concatenate((A, -A), axis=1)\n",
    "    c = np.ones(shape=(AA.shape[1],))\n",
    "    res = linprog(c, A_eq=AA, b_eq=b, bounds=(0.0, None), method='simplex', options=dict(disp=True, tol=1e-2))\n",
    "    coeff = res.x[:Nf] - res.x[Nf:]\n",
    "    bp_spectrum = np.power(np.absolute(coeff[:Nf/2]), 2.0) + np.power(np.absolute(coeff[Nf/2:]), 2.0)  \n",
    "    \n",
    "    return bp_spectrum\n",
    "\n",
    "\"\"\"\n",
    "Distributed Optimization and Statistical Learning via the Alternating Direction Method of Multiplier (ADMM)\n",
    "S. Boyd et al., \"Foundations and Trends in Machine Learning\", vol. 3, N. 1, pp. 1–122, 2011\n",
    "https://web.stanford.edu/~boyd/papers/admm/basis_pursuit/basis_pursuit.html\n",
    "\"\"\"\n",
    "def bp2(b, A, rho=1.0, alpha=1.0, max_iter=1000):\n",
    "    print(\"Starting ADMM Basis Pursuit Routine\")\n",
    "    N = A.shape[0]\n",
    "    M = A.shape[1]\n",
    "    x = np.zeros(shape=(M, ))\n",
    "    z = np.zeros(shape=(M, ))\n",
    "    u = np.zeros(shape=(M, ))\n",
    "    AAt = np.dot(A, A.T)\n",
    "    P = np.eye(M) - np.dot(A.T,np.linalg.solve(AAt, A))\n",
    "    q = np.dot(A.T, np.linalg.solve(AAt, b))\n",
    "    for k in range(0, max_iter):\n",
    "        x = np.dot(P, z - u) + q\n",
    "        zold = z;\n",
    "        x_hat = alpha*x + (1 - alpha)*zold\n",
    "        z = shrinkage(x_hat + u, 1/rho)\n",
    "        u = u + (x_hat - z)    \n",
    "    \n",
    "    return np.power(np.absolute(z[:M/2]), 2.0) + np.power(np.absolute(z[M/2:]), 2.0)  \n",
    "\n",
    "def shrinkage(a, kappa):\n",
    "    return np.maximum(0, a-kappa) - np.maximum(0, -a-kappa)"
   ]
  },
  {
   "cell_type": "code",
   "execution_count": null,
   "metadata": {
    "collapsed": false
   },
   "outputs": [],
   "source": [
    "import numpy as np\n",
    "%matplotlib inline\n",
    "import matplotlib.pylab as plt\n",
    "import matplotlib.gridspec as gridspec\n",
    "from scipy.optimize import linprog\n",
    "\n",
    "N = 100\n",
    "T = 10.0\n",
    "t = np.linspace(0.0, T, num=N);\n",
    "f = 1.0\n",
    "df = 0.1\n",
    "y = np.sin(2.0*np.pi*t*f) + np.sin(2.0*np.pi*t*(f+df)) + 0.5*np.cos(2.0*np.pi*t*0.3);"
   ]
  },
  {
   "cell_type": "code",
   "execution_count": null,
   "metadata": {
    "collapsed": false
   },
   "outputs": [],
   "source": [
    "f, Phi = create_dictionary(t, L=1)\n",
    "fourier_spectrum = dft(y, Phi)\n",
    "basispursuit_spectrum = bp2(y, Phi)"
   ]
  },
  {
   "cell_type": "code",
   "execution_count": null,
   "metadata": {
    "collapsed": false
   },
   "outputs": [],
   "source": [
    "plt.close()\n",
    "plt.style.use('bmh')\n",
    "fig = plt.figure(figsize=(12, 5), dpi=80)\n",
    "gs = gridspec.GridSpec(1,3)\n",
    "ax = plt.subplot(gs[0, 0])\n",
    "plt.plot(t, y)\n",
    "ax.set_xlabel('Time [s]')\n",
    "ax.set_ylabel('Signal')\n",
    "ax = plt.subplot(gs[0, 1:3])\n",
    "ax.plot(f, fourier_spectrum, color='#A60628', label='PSD')\n",
    "ax.set_xlim(0.0, 2.0)\n",
    "ax.set_xlabel('Frequency [Hz]')\n",
    "ax.set_ylabel('Power Spectral Density')\n",
    "\n",
    "plt.legend(loc=2)\n",
    "ax = ax.twinx()\n",
    "ax.plot(f, basispursuit_spectrum, label='BP ')\n",
    "ax.set_ylabel('Squared basis pursuit coefficients')\n",
    "ax.set_xlim(0.0, 2.0)\n",
    "plt.legend()\n",
    "plt.tight_layout()"
   ]
  },
  {
   "cell_type": "code",
   "execution_count": null,
   "metadata": {
    "collapsed": true
   },
   "outputs": [],
   "source": []
  }
 ],
 "metadata": {
  "kernelspec": {
   "display_name": "Python 2",
   "language": "python2",
   "name": "python2"
  },
  "language_info": {
   "codemirror_mode": {
    "name": "ipython",
    "version": 2
   },
   "file_extension": ".py",
   "mimetype": "text/x-python",
   "name": "python",
   "nbconvert_exporter": "python",
   "pygments_lexer": "ipython2",
   "version": "2.7.10"
  }
 },
 "nbformat": 4,
 "nbformat_minor": 0
}
