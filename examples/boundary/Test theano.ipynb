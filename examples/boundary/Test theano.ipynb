{
 "cells": [
  {
   "cell_type": "code",
   "execution_count": 23,
   "metadata": {
    "collapsed": false
   },
   "outputs": [
    {
     "name": "stdout",
     "output_type": "stream",
     "text": [
      "['[[  3.98942280e+00   1.48409559e-43]\\n [  1.48409559e-43   3.98942280e+00]] =>   [ 1.9947114  1.9947114]   ', '[[  3.98942280e+00   1.48409559e-43]\\n [  1.48409559e-43   3.98942280e+00]] =>   [ 1.9947114  1.9947114]   ']\n",
      "[[  1.59154943e+01   2.20253973e-86]\n",
      " [  2.20253973e-86   1.59154943e+01]]\n"
     ]
    }
   ],
   "source": [
    "import numpy as np\n",
    "import theano.tensor as T\n",
    "\n",
    "Y1 = [[1, 0], [0, 1]]\n",
    "Y2 = [[1, 0], [0, 1]]\n",
    "\n",
    "s = 0.1\n",
    "Y = [Y1, Y2]\n",
    "\n",
    "DY = []\n",
    "for y in Y:\n",
    "    dy = np.tile(y, (len(y), 1, 1))\n",
    "    dy = np.transpose(dy, axes=(1, 0, 2)) - dy\n",
    "    DY.append(dy)\n",
    "\n",
    "def kernel(x, s):\n",
    "    divisor = np.array(2.0 * (s ** 2))\n",
    "\n",
    "    exp_arg = -x ** 2 / divisor\n",
    "    z = 1. / (np.sqrt(2.0 * np.pi) * s)\n",
    "\n",
    "    return np.exp(exp_arg.sum(axis=-1)) * z\n",
    "    \n",
    "DYK = [kernel(dy, s) for dy in DY] \n",
    "print(['%s =>   %s   ' % (d, T.mean(d, axis=0).eval()) for d in DYK])\n",
    "print(np.prod(DYK, axis=0))"
   ]
  },
  {
   "cell_type": "code",
   "execution_count": 13,
   "metadata": {
    "collapsed": false
   },
   "outputs": [
    {
     "data": {
      "text/plain": [
       "3.9894228057251793"
      ]
     },
     "execution_count": 13,
     "metadata": {},
     "output_type": "execute_result"
    }
   ],
   "source": [
    "1.59154943e+01 / 3.98942280e+00"
   ]
  },
  {
   "cell_type": "code",
   "execution_count": null,
   "metadata": {
    "collapsed": true
   },
   "outputs": [],
   "source": []
  }
 ],
 "metadata": {
  "kernelspec": {
   "display_name": "Python [conda env:py35]",
   "language": "python",
   "name": "conda-env-py35-py"
  },
  "language_info": {
   "codemirror_mode": {
    "name": "ipython",
    "version": 3
   },
   "file_extension": ".py",
   "mimetype": "text/x-python",
   "name": "python",
   "nbconvert_exporter": "python",
   "pygments_lexer": "ipython3",
   "version": "3.5.2"
  }
 },
 "nbformat": 4,
 "nbformat_minor": 1
}
