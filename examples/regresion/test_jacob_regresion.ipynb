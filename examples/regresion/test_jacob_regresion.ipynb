{
 "cells": [
  {
   "cell_type": "code",
   "execution_count": 1,
   "metadata": {
    "collapsed": false,
    "deletable": true,
    "editable": true
   },
   "outputs": [
    {
     "name": "stdout",
     "output_type": "stream",
     "text": [
      "SNR: 0.255204\n"
     ]
    }
   ],
   "source": [
    "import sys\n",
    "import os\n",
    "sys.path.insert(0, os.path.abspath('../../'))\n",
    "\n",
    "import numpy as np\n",
    "from theano import config\n",
    "\n",
    "from deepensemble.utils import jacobs\n",
    "\n",
    "N = 1000\n",
    "\n",
    "X, y = jacobs(sample_len=N, seed=42)\n",
    "y = np.array(y[:, np.newaxis], dtype=config.floatX)\n",
    "X = np.array(X, dtype=config.floatX)\n",
    "t = np.arange(N)\n",
    "\n",
    "# Added Noise\n",
    "s_noise = 0.0001\n",
    "nu = np.random.randn(N, 1) * s_noise\n",
    "# nu[np.random.rand(N,1) > 0.95] += 0.2\n",
    "\n",
    "z = y + nu\n",
    "\n",
    "n_train = int(N * 0.5)\n",
    "i_test = N - n_train\n",
    "\n",
    "y_train = z[0:n_train]\n",
    "y_test = z[i_test:N]\n",
    "X_train = X[0:n_train]\n",
    "X_test = X[i_test:N]\n",
    "t_train = t[0:n_train]\n",
    "t_test = t[i_test:N]\n",
    "\n",
    "fx_train = y[0:n_train]\n",
    "fx_test = y[i_test:N]\n",
    "\n",
    "SNR = np.mean(z) / np.std(z)\n",
    "\n",
    "print('SNR: %g' % SNR)"
   ]
  },
  {
   "cell_type": "code",
   "execution_count": 2,
   "metadata": {
    "collapsed": false,
    "deletable": true,
    "editable": true,
    "scrolled": false
   },
   "outputs": [
    {
     "ename": "NameError",
     "evalue": "name 'plt' is not defined",
     "output_type": "error",
     "traceback": [
      "\u001b[0;31m---------------------------------------------------------------------------\u001b[0m",
      "\u001b[0;31mNameError\u001b[0m                                 Traceback (most recent call last)",
      "\u001b[0;32m<ipython-input-2-1829937dab62>\u001b[0m in \u001b[0;36m<module>\u001b[0;34m()\u001b[0m\n\u001b[1;32m      5\u001b[0m \u001b[0mset_matplotlib_formats\u001b[0m\u001b[0;34m(\u001b[0m\u001b[0;34m'png'\u001b[0m\u001b[0;34m,\u001b[0m \u001b[0;34m'pdf'\u001b[0m\u001b[0;34m)\u001b[0m\u001b[0;34m\u001b[0m\u001b[0m\n\u001b[1;32m      6\u001b[0m \u001b[0;34m\u001b[0m\u001b[0m\n\u001b[0;32m----> 7\u001b[0;31m \u001b[0mplt\u001b[0m\u001b[0;34m.\u001b[0m\u001b[0mstyle\u001b[0m\u001b[0;34m.\u001b[0m\u001b[0muse\u001b[0m\u001b[0;34m(\u001b[0m\u001b[0;34m'fivethirtyeight'\u001b[0m\u001b[0;34m)\u001b[0m\u001b[0;34m\u001b[0m\u001b[0m\n\u001b[0m\u001b[1;32m      8\u001b[0m \u001b[0;34m\u001b[0m\u001b[0m\n\u001b[1;32m      9\u001b[0m \u001b[0mfig\u001b[0m \u001b[0;34m=\u001b[0m \u001b[0mplt\u001b[0m\u001b[0;34m.\u001b[0m\u001b[0mfigure\u001b[0m\u001b[0;34m(\u001b[0m\u001b[0mfigsize\u001b[0m\u001b[0;34m=\u001b[0m\u001b[0;34m(\u001b[0m\u001b[0;36m12\u001b[0m\u001b[0;34m,\u001b[0m \u001b[0;36m6\u001b[0m\u001b[0;34m)\u001b[0m\u001b[0;34m,\u001b[0m \u001b[0mdpi\u001b[0m\u001b[0;34m=\u001b[0m\u001b[0;36m80\u001b[0m\u001b[0;34m)\u001b[0m\u001b[0;34m\u001b[0m\u001b[0m\n",
      "\u001b[0;31mNameError\u001b[0m: name 'plt' is not defined"
     ]
    }
   ],
   "source": [
    "from matplotlib.pyplot import *\n",
    "%matplotlib notebook\n",
    " \n",
    "from IPython.display import set_matplotlib_formats\n",
    "set_matplotlib_formats('png', 'pdf')\n",
    "\n",
    "plt.style.use('fivethirtyeight')\n",
    "\n",
    "fig = plt.figure(figsize=(12, 6), dpi=80)\n",
    "ax = plt.subplot(211)\n",
    "ax.plot(t_train, y_train, '.', alpha=0.25, label='Observaciones')\n",
    "ax.plot(t_train, fx_train, '-', lw=3, label='Jacobs')\n",
    "plt.title('Muestras Entrenamiento')\n",
    "plt.xlabel('x')\n",
    "plt.legend(loc='best', numpoints=3)\n",
    "plt.tight_layout()\n",
    "\n",
    "ax = plt.subplot(212)\n",
    "ax.plot(t_test, y_test, '.', alpha=0.25, label='Observaciones')\n",
    "ax.plot(t_test, fx_test, '-', lw=3, label='Jacobs')\n",
    "plt.title('Muestras para Pruebas')\n",
    "plt.xlabel('x')\n",
    "plt.legend(loc='best', numpoints=3)\n",
    "plt.tight_layout()"
   ]
  },
  {
   "cell_type": "code",
   "execution_count": null,
   "metadata": {
    "collapsed": false,
    "deletable": true,
    "editable": true
   },
   "outputs": [],
   "source": [
    "from deepensemble.utils.utils_functions import ActivationFunctions\n",
    "from deepensemble.models.sequential import Sequential\n",
    "from deepensemble.layers.dense import Dense\n",
    "from deepensemble.layers.recurrent import RecurrentLayer\n",
    "from deepensemble.models.ensemblemodel import EnsembleModel\n",
    "from deepensemble.combiner import *\n",
    "from deepensemble.metrics import *\n",
    "from deepensemble.utils import *\n",
    "\n",
    "n_neurons = 12\n",
    "n_models = 4\n",
    "lr = 0.005\n",
    "batch_size = 50\n",
    "max_epoch = 300\n",
    "\n",
    "n_ensemble_models = 5\n",
    "\n",
    "fn_activation1 = ActivationFunctions.tanh\n",
    "fn_activation2 = ActivationFunctions.tanh\n",
    "\n",
    "n_features = X_train.shape[1]\n",
    "\n",
    "n_output = y_train.shape[1]\n",
    "n_inputs = n_features\n",
    "\n",
    "n_neurons_model = int(0.75 * (n_output + n_inputs))\n",
    "\n",
    "s = ITLFunctions.silverman(np.array(y_train)).eval()\n",
    "print('Silverman: %0.4g' % s)"
   ]
  },
  {
   "cell_type": "code",
   "execution_count": null,
   "metadata": {
    "collapsed": false,
    "deletable": true,
    "editable": true
   },
   "outputs": [],
   "source": [
    "# Create Ensemble\n",
    "ensemble = get_ensemble_model(name='Ensamble',\n",
    "                                  n_input=n_features, n_output=n_output,\n",
    "                                  n_ensemble_models=n_ensemble_models, n_neurons_model=n_neurons_model,\n",
    "                                  fn_activation1=fn_activation1, fn_activation2=fn_activation2,\n",
    "                                  cost=mse, name_cost=\"MSE\",\n",
    "                                  params_update={'learning_rate': lr})\n",
    "\n",
    "metrics_ensemble = FactoryMetrics.get_metric(ensemble)\n",
    "\n",
    "# Compile\n",
    "ensemble.compile(fast=True)\n",
    "\n",
    "# training\n",
    "metrics = ensemble.fit(X_train, y_train, max_epoch=max_epoch, batch_size=batch_size, early_stop=False)\n",
    "print(\"FINISHED!\")\n",
    "\n",
    "# Compute metricstrain\n",
    "metrics_ensemble.append_metric(metrics)"
   ]
  },
  {
   "cell_type": "code",
   "execution_count": null,
   "metadata": {
    "collapsed": false,
    "deletable": true,
    "editable": true
   },
   "outputs": [],
   "source": [
    "# Create Ensemble NCL\n",
    "ensembleNCL = get_ensembleNCL_model(name='Ensamble NCL',\n",
    "                                        n_input=n_features, n_output=n_output,\n",
    "                                        n_ensemble_models=n_ensemble_models, n_neurons_models=n_neurons_model,\n",
    "                                        fn_activation1=fn_activation1, fn_activation2=fn_activation2,\n",
    "                                        lamb=0.8, params_update={'learning_rate': lr})\n",
    "\n",
    "metrics_ensembleNCL = FactoryMetrics.get_metric(ensembleNCL)\n",
    "\n",
    "# Compile\n",
    "ensembleNCL.compile(fast=True)\n",
    "                      \n",
    "# training\n",
    "metrics = ensembleNCL.fit(X_train, y_train, max_epoch=max_epoch, batch_size=batch_size, early_stop=False)\n",
    "print(\"FINISHED!\")\n",
    "\n",
    "# Compute metricstrain\n",
    "metrics_ensembleNCL.append_metric(metrics)"
   ]
  },
  {
   "cell_type": "code",
   "execution_count": null,
   "metadata": {
    "collapsed": false,
    "deletable": true,
    "editable": true
   },
   "outputs": [],
   "source": [
    "# Create MLP\n",
    "mlp = get_mlp_model(\"MLP (%d neuronas)\" % (n_neurons_model * n_ensemble_models),\n",
    "                           n_input=n_features, n_output=n_output,\n",
    "                           n_neurons=n_neurons_model,\n",
    "                           fn_activation1=fn_activation1, fn_activation2=fn_activation2,\n",
    "                           cost=mse, name_cost=\"MSE\", params_update={'learning_rate': lr})\n",
    "\n",
    "metrics_mlp = FactoryMetrics.get_metric(mlp)\n",
    "\n",
    "# Compile\n",
    "mlp.compile(fast=True)\n",
    "                      \n",
    "# training\n",
    "metrics = mlp.fit(X_train, y_train, max_epoch=max_epoch, batch_size=batch_size, early_stop=False)\n",
    "print(\"FINISHED!\")\n",
    "\n",
    "# Compute metricstrain\n",
    "metrics_mlp.append_metric(metrics)"
   ]
  },
  {
   "cell_type": "code",
   "execution_count": null,
   "metadata": {
    "collapsed": false,
    "deletable": true,
    "editable": true
   },
   "outputs": [],
   "source": [
    "# Create Ensemble CIP\n",
    "ensembleCIP = get_ensembleCIP_model(name='Ensamble CIP',\n",
    "                                    n_input=n_features, n_output=n_output,\n",
    "                                    n_ensemble_models=n_ensemble_models, n_neurons_models=n_neurons_model,\n",
    "                                    is_cip_full=False,\n",
    "                                    fn_activation1=fn_activation1, fn_activation2=fn_activation2,\n",
    "                                    dist='CS',\n",
    "                                    beta=0.2, lamb=0.2, s=s,\n",
    "                                    lsp=1.5, lsm=0.1,\n",
    "                                    lr=lr,\n",
    "                                    bias_layer=True, mse_first_epoch=False, annealing_enable=True,\n",
    "                                    update=sgd, name_update='SGD',\n",
    "                                    params_update={'learning_rate': -lr})\n",
    "\n",
    "metrics_ensembleCIP = FactoryMetrics.get_metric(ensembleCIP)\n",
    "\n",
    "# Compile\n",
    "ensembleCIP.compile(fast=True)\n",
    "                      \n",
    "# training\n",
    "metrics = ensembleCIP.fit(X_train, y_train, max_epoch=max_epoch, batch_size=batch_size, early_stop=False,\n",
    "                         criterion_update_params = 'cost', maximization_criterion=True)\n",
    "print(\"FINISHED!\")\n",
    "\n",
    "# Compute metricstrain\n",
    "metrics_ensembleCIP.append_metric(metrics)"
   ]
  },
  {
   "cell_type": "code",
   "execution_count": null,
   "metadata": {
    "collapsed": false,
    "deletable": true,
    "editable": true,
    "scrolled": false
   },
   "outputs": [],
   "source": [
    "fig = plt.figure(figsize=(12, 6), dpi=80)\n",
    "\n",
    "plt.plot(t, z, 'k.', alpha=0.15,  label='Muestras')\n",
    "plt.plot(t_train, ensemble.predict(X_train), lw=2, label='Ensamble')\n",
    "plt.plot(t_train, ensembleNCL.predict(X_train), lw=2, label='Ensamble NCL')\n",
    "plt.plot(t_train, ensembleCIP.predict(X_train), lw=2, label='Ensamble CIP')\n",
    "plt.plot(t_train, mlp.predict(X_train), lw=2, label='MLP')\n",
    "plt.title('Conjunto Entrenamiento Jacobs')\n",
    "plt.xlabel('x')\n",
    "plt.legend(loc='best')\n",
    "\n",
    "fig = plt.figure(figsize=(12, 6), dpi=80)\n",
    "\n",
    "plt.plot(t, z, 'k.', alpha=0.15, label='Muestras')\n",
    "plt.plot(t_test, ensemble.predict(X_test), lw=2, label='Ensamble')\n",
    "plt.plot(t_test, ensembleNCL.predict(X_test), lw=2, label='Ensamble NCL')\n",
    "plt.plot(t_test, ensembleCIP.predict(X_test), lw=2, label='Ensamble CIP')\n",
    "plt.plot(t_test, mlp.predict(X_test), lw=2, label='MLP')\n",
    "plt.title('Conjunto Prueba Jacobs')\n",
    "plt.xlabel('x')\n",
    "plt.legend(loc='best')\n",
    "\n",
    "plt.tight_layout()"
   ]
  },
  {
   "cell_type": "code",
   "execution_count": null,
   "metadata": {
    "collapsed": false,
    "deletable": true,
    "editable": true,
    "scrolled": false
   },
   "outputs": [],
   "source": [
    "from sklearn.neighbors.kde import KernelDensity\n",
    "\n",
    "def plot_pdf_error(pred, target, label_plot, ax, fig, n_points=1000, xmin=-3, xmax=3):\n",
    "    error = pred - target\n",
    "    N = len(error)\n",
    "    s = 1.06 * np.std(error) / np.power(N, 0.2)  # Silverman\n",
    "    kde = KernelDensity(kernel='gaussian', bandwidth=0.2)\n",
    "    kde.fit(error)\n",
    "    x_plot = np.linspace(xmin, xmax, n_points)[:, np.newaxis]\n",
    "    y_plot = np.exp(kde.score_samples(x_plot))\n",
    "    ax.plot(x_plot, y_plot / np.sum(y_plot), label=label_plot)\n",
    "    \n",
    "fig = plt.figure(figsize=(10, 5), dpi=80)\n",
    "ax = fig.add_subplot(1, 1, 1)\n",
    "\n",
    "plot_pdf_error(ensemble.predict(X_train), y_train, 'Ensamble', ax, fig)\n",
    "plot_pdf_error(ensembleNCL.predict(X_train), y_train, 'Ensamble NCL', ax, fig)\n",
    "plot_pdf_error(ensembleCIP.predict(X_train), y_train, 'Ensamble CIP', ax, fig)\n",
    "plot_pdf_error(mlp.predict(X_train), y_train, 'MLP', ax, fig)\n",
    "\n",
    "plt.xlabel('Error')\n",
    "plt.ylabel('PDF del error');\n",
    "plt.title(\"Función de Probabilidad (pdf) del Error conjunto Entrenamiento\")\n",
    "plt.legend()\n",
    "\n",
    "plt.tight_layout()"
   ]
  },
  {
   "cell_type": "code",
   "execution_count": null,
   "metadata": {
    "collapsed": false,
    "deletable": true,
    "editable": true
   },
   "outputs": [],
   "source": [
    "fig = plt.figure(figsize=(10, 5), dpi=80)\n",
    "ax = fig.add_subplot(1, 1, 1)\n",
    "\n",
    "plot_pdf_error(ensemble.predict(X_test), y_test, 'Ensamble', ax, fig)\n",
    "plot_pdf_error(ensembleNCL.predict(X_test), y_test, 'Ensamble NCL', ax, fig)\n",
    "plot_pdf_error(ensembleCIP.predict(X_test), y_test, 'Ensamble CIP', ax, fig)\n",
    "plot_pdf_error(mlp.predict(X_test), y_test, 'MLP', ax, fig)\n",
    "\n",
    "plt.xlabel('Error')\n",
    "plt.ylabel('PDF del error');\n",
    "plt.title(\"Función de Probabilidad (pdf) del Error\\n conjunto Entrenamiento\")\n",
    "plt.legend()\n",
    "\n",
    "plt.tight_layout()\n",
    "\n",
    "plt.show()"
   ]
  },
  {
   "cell_type": "code",
   "execution_count": null,
   "metadata": {
    "collapsed": false,
    "deletable": true,
    "editable": true
   },
   "outputs": [],
   "source": [
    "score_test_ensemble = ensemble.score(X_test, y_test)\n",
    "score_train_ensemble = ensemble.score(X_train, y_train)\n",
    "\n",
    "score_test_ensembleNCL = ensembleNCL.score(X_test, y_test)\n",
    "score_train_ensembleNCL = ensembleNCL.score(X_train, y_train)\n",
    "\n",
    "score_test_ensembleCIP = ensembleCIP.score(X_test, y_test)\n",
    "score_train_ensembleCIP = ensembleCIP.score(X_train, y_train)\n",
    "\n",
    "score_test_mlp = mlp.score(X_test, y_test)\n",
    "score_train_mlp = mlp.score(X_train, y_train)\n",
    "\n",
    "print('Score RMS')\n",
    "print('Ensamble: %f / %f' % (score_train_ensemble, score_test_ensemble))\n",
    "print('Ensamble NCL: %f / %f' % (score_train_ensembleNCL, score_test_ensembleNCL))\n",
    "print('Ensamble CIP: %f / %f' % (score_train_ensembleCIP, score_test_ensembleCIP))\n",
    "print('MLP: %f / %f' % (score_train_mlp, score_test_mlp))"
   ]
  },
  {
   "cell_type": "code",
   "execution_count": null,
   "metadata": {
    "collapsed": true,
    "deletable": true,
    "editable": true
   },
   "outputs": [],
   "source": []
  }
 ],
 "metadata": {
  "anaconda-cloud": {},
  "kernelspec": {
   "display_name": "Python 3",
   "language": "python",
   "name": "python3"
  },
  "language_info": {
   "codemirror_mode": {
    "name": "ipython",
    "version": 3
   },
   "file_extension": ".py",
   "mimetype": "text/x-python",
   "name": "python",
   "nbconvert_exporter": "python",
   "pygments_lexer": "ipython3",
   "version": "3.4.6"
  }
 },
 "nbformat": 4,
 "nbformat_minor": 0
}
