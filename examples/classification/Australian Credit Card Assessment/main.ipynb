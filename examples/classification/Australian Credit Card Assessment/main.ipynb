{
 "cells": [
  {
   "cell_type": "markdown",
   "metadata": {
    "collapsed": true,
    "deletable": true,
    "editable": true
   },
   "source": [
    "#### Example Ensembles: Australian Credit Card Assessment\n",
    "\n",
    "In this example it will be compared 4 classifiers:\n",
    "- Multilayer perceptron.\n",
    "- Normal Ensemble.\n",
    "- Ensemble trained with Negative Correlation (Xin Yao, 1999).\n",
    "- Ensemble trained with Correntropy."
   ]
  },
  {
   "cell_type": "markdown",
   "metadata": {
    "deletable": true,
    "editable": true
   },
   "source": [
    "## Data\n",
    "\n",
    "This data base concerns credit card applications. All attribute names and values have been changed to meaningless symbols to protect confidentiality of the data. This dataset is interesting because there is a good mix of attributes -- continuous, nominal with small numbers of values, and nominal with larger numbers of values. There are also a few missing values.\n",
    "  \n",
    "- Number of Instances: 690\n",
    "- Number of Attributes: 14 + class attribute\n",
    "- Attribute Information:   THERE ARE 6 NUMERICAL AND 8 CATEGORICAL ATTRIBUTES.\n",
    "- Exist 2 classes and its distribution is:\n",
    "    * +: 307 (44.5%)    CLASS 2\n",
    "    * -: 383 (55.5%)    CLASS 1\n",
    "- there are 6 numerical and 8 categorical attributes. the labels have been changed for the convenience of the statistical algorithms. For example, attribute 4 originally had 3 labels p,g,gg and these have been changed to labels 1,2,3.\n",
    "\n",
    "- Missing Attribute Values: 37 cases (5%) HAD one or more missing values. The missing values from particular attributes WERE:\n",
    "    * A1:  12\n",
    "    * A2:  12\n",
    "    * A4:   6\n",
    "    * A5:   6\n",
    "    * A6:   9\n",
    "    * A7:   9\n",
    "    * A14: 13\n",
    " \n",
    "  These were replaced by the mode of the attribute (categorical) and mean of the attribute (continuous)\n"
   ]
  },
  {
   "cell_type": "code",
   "execution_count": 1,
   "metadata": {
    "collapsed": false,
    "deletable": true,
    "editable": true
   },
   "outputs": [
    {
     "ename": "ImportError",
     "evalue": "libcblas.so: cannot open shared object file: No such file or directory",
     "output_type": "error",
     "traceback": [
      "\u001b[0;31m---------------------------------------------------------------------------\u001b[0m",
      "\u001b[0;31mImportError\u001b[0m                               Traceback (most recent call last)",
      "\u001b[0;32m<ipython-input-1-dd30f098a82f>\u001b[0m in \u001b[0;36m<module>\u001b[0;34m()\u001b[0m\n\u001b[1;32m      7\u001b[0m \u001b[0msys\u001b[0m\u001b[0;34m.\u001b[0m\u001b[0mpath\u001b[0m\u001b[0;34m.\u001b[0m\u001b[0minsert\u001b[0m\u001b[0;34m(\u001b[0m\u001b[0;36m0\u001b[0m\u001b[0;34m,\u001b[0m \u001b[0mos\u001b[0m\u001b[0;34m.\u001b[0m\u001b[0mpath\u001b[0m\u001b[0;34m.\u001b[0m\u001b[0mabspath\u001b[0m\u001b[0;34m(\u001b[0m\u001b[0;34m'../../..'\u001b[0m\u001b[0;34m)\u001b[0m\u001b[0;34m)\u001b[0m  \u001b[0;31m# load deepensemble library\u001b[0m\u001b[0;34m\u001b[0m\u001b[0m\n\u001b[1;32m      8\u001b[0m \u001b[0;34m\u001b[0m\u001b[0m\n\u001b[0;32m----> 9\u001b[0;31m \u001b[0;32mfrom\u001b[0m \u001b[0mdeepensemble\u001b[0m\u001b[0;34m.\u001b[0m\u001b[0mmodels\u001b[0m\u001b[0;34m.\u001b[0m\u001b[0msequential\u001b[0m \u001b[0;32mimport\u001b[0m \u001b[0mSequential\u001b[0m\u001b[0;34m\u001b[0m\u001b[0m\n\u001b[0m\u001b[1;32m     10\u001b[0m \u001b[0;32mfrom\u001b[0m \u001b[0mdeepensemble\u001b[0m\u001b[0;34m.\u001b[0m\u001b[0mlayers\u001b[0m\u001b[0;34m.\u001b[0m\u001b[0mdense\u001b[0m \u001b[0;32mimport\u001b[0m \u001b[0mDense\u001b[0m\u001b[0;34m\u001b[0m\u001b[0m\n\u001b[1;32m     11\u001b[0m \u001b[0;32mfrom\u001b[0m \u001b[0mdeepensemble\u001b[0m\u001b[0;34m.\u001b[0m\u001b[0mutils\u001b[0m \u001b[0;32mimport\u001b[0m \u001b[0;34m*\u001b[0m\u001b[0;34m\u001b[0m\u001b[0m\n",
      "\u001b[0;32m/mnt/backup/DeepEnsemble/deepensemble/__init__.py\u001b[0m in \u001b[0;36m<module>\u001b[0;34m()\u001b[0m\n\u001b[1;32m      1\u001b[0m \"\"\" Library for training ensembles.\n\u001b[1;32m      2\u001b[0m \"\"\"\n\u001b[0;32m----> 3\u001b[0;31m \u001b[0;32mfrom\u001b[0m \u001b[0;34m.\u001b[0m \u001b[0;32mimport\u001b[0m \u001b[0mlayers\u001b[0m\u001b[0;34m\u001b[0m\u001b[0m\n\u001b[0m\u001b[1;32m      4\u001b[0m \u001b[0;32mfrom\u001b[0m \u001b[0;34m.\u001b[0m \u001b[0;32mimport\u001b[0m \u001b[0mmetrics\u001b[0m\u001b[0;34m\u001b[0m\u001b[0m\n\u001b[1;32m      5\u001b[0m \u001b[0;32mfrom\u001b[0m \u001b[0;34m.\u001b[0m \u001b[0;32mimport\u001b[0m \u001b[0mmodels\u001b[0m\u001b[0;34m\u001b[0m\u001b[0m\n",
      "\u001b[0;32m/mnt/backup/DeepEnsemble/deepensemble/layers/__init__.py\u001b[0m in \u001b[0;36m<module>\u001b[0;34m()\u001b[0m\n\u001b[1;32m      2\u001b[0m \"\"\"\n\u001b[1;32m      3\u001b[0m \u001b[0;34m\u001b[0m\u001b[0m\n\u001b[0;32m----> 4\u001b[0;31m \u001b[0;32mfrom\u001b[0m \u001b[0;34m.\u001b[0m\u001b[0mdense\u001b[0m \u001b[0;32mimport\u001b[0m \u001b[0;34m*\u001b[0m\u001b[0;34m\u001b[0m\u001b[0m\n\u001b[0m\u001b[1;32m      5\u001b[0m \u001b[0;32mfrom\u001b[0m \u001b[0;34m.\u001b[0m\u001b[0mconv\u001b[0m \u001b[0;32mimport\u001b[0m \u001b[0;34m*\u001b[0m\u001b[0;34m\u001b[0m\u001b[0m\n\u001b[1;32m      6\u001b[0m \u001b[0;32mfrom\u001b[0m \u001b[0;34m.\u001b[0m\u001b[0mpool\u001b[0m \u001b[0;32mimport\u001b[0m \u001b[0;34m*\u001b[0m\u001b[0;34m\u001b[0m\u001b[0m\n",
      "\u001b[0;32m/mnt/backup/DeepEnsemble/deepensemble/layers/dense.py\u001b[0m in \u001b[0;36m<module>\u001b[0;34m()\u001b[0m\n\u001b[1;32m      1\u001b[0m \u001b[0;32mimport\u001b[0m \u001b[0mtheano\u001b[0m\u001b[0;34m.\u001b[0m\u001b[0mtensor\u001b[0m \u001b[0;32mas\u001b[0m \u001b[0mT\u001b[0m\u001b[0;34m\u001b[0m\u001b[0m\n\u001b[0;32m----> 2\u001b[0;31m \u001b[0;32mfrom\u001b[0m \u001b[0;34m.\u001b[0m\u001b[0mlayer\u001b[0m \u001b[0;32mimport\u001b[0m \u001b[0mLayer\u001b[0m\u001b[0;34m\u001b[0m\u001b[0m\n\u001b[0m\u001b[1;32m      3\u001b[0m \u001b[0;34m\u001b[0m\u001b[0m\n\u001b[1;32m      4\u001b[0m \u001b[0m__all__\u001b[0m \u001b[0;34m=\u001b[0m \u001b[0;34m[\u001b[0m\u001b[0;34m'Dense'\u001b[0m\u001b[0;34m]\u001b[0m\u001b[0;34m\u001b[0m\u001b[0m\n\u001b[1;32m      5\u001b[0m \u001b[0;34m\u001b[0m\u001b[0m\n",
      "\u001b[0;32m/mnt/backup/DeepEnsemble/deepensemble/layers/layer.py\u001b[0m in \u001b[0;36m<module>\u001b[0;34m()\u001b[0m\n\u001b[1;32m      2\u001b[0m \u001b[0;32mimport\u001b[0m \u001b[0mtheano\u001b[0m\u001b[0;34m.\u001b[0m\u001b[0mtensor\u001b[0m \u001b[0;32mas\u001b[0m \u001b[0mT\u001b[0m\u001b[0;34m\u001b[0m\u001b[0m\n\u001b[1;32m      3\u001b[0m \u001b[0;32mimport\u001b[0m \u001b[0mnumpy\u001b[0m \u001b[0;32mas\u001b[0m \u001b[0mnp\u001b[0m\u001b[0;34m\u001b[0m\u001b[0m\n\u001b[0;32m----> 4\u001b[0;31m \u001b[0;32mfrom\u001b[0m \u001b[0;34m.\u001b[0m\u001b[0;34m.\u001b[0m\u001b[0mutils\u001b[0m\u001b[0;34m.\u001b[0m\u001b[0mserializable\u001b[0m \u001b[0;32mimport\u001b[0m \u001b[0mSerializable\u001b[0m\u001b[0;34m\u001b[0m\u001b[0m\n\u001b[0m\u001b[1;32m      5\u001b[0m \u001b[0;34m\u001b[0m\u001b[0m\n\u001b[1;32m      6\u001b[0m \u001b[0m__all__\u001b[0m \u001b[0;34m=\u001b[0m \u001b[0;34m[\u001b[0m\u001b[0;34m'Layer'\u001b[0m\u001b[0;34m]\u001b[0m\u001b[0;34m\u001b[0m\u001b[0m\n",
      "\u001b[0;32m/mnt/backup/DeepEnsemble/deepensemble/utils/__init__.py\u001b[0m in \u001b[0;36m<module>\u001b[0;34m()\u001b[0m\n\u001b[1;32m      9\u001b[0m \u001b[0;32mfrom\u001b[0m \u001b[0;34m.\u001b[0m\u001b[0mutils_classifiers\u001b[0m \u001b[0;32mimport\u001b[0m \u001b[0;34m*\u001b[0m\u001b[0;34m\u001b[0m\u001b[0m\n\u001b[1;32m     10\u001b[0m \u001b[0;32mfrom\u001b[0m \u001b[0;34m.\u001b[0m\u001b[0mutils_data_bases\u001b[0m \u001b[0;32mimport\u001b[0m \u001b[0;34m*\u001b[0m\u001b[0;34m\u001b[0m\u001b[0m\n\u001b[0;32m---> 11\u001b[0;31m \u001b[0;32mfrom\u001b[0m \u001b[0;34m.\u001b[0m\u001b[0mutils_test\u001b[0m \u001b[0;32mimport\u001b[0m \u001b[0;34m*\u001b[0m\u001b[0;34m\u001b[0m\u001b[0m\n\u001b[0m\u001b[1;32m     12\u001b[0m \u001b[0;32mfrom\u001b[0m \u001b[0;34m.\u001b[0m\u001b[0mutils_plot\u001b[0m \u001b[0;32mimport\u001b[0m \u001b[0;34m*\u001b[0m\u001b[0;34m\u001b[0m\u001b[0m\n\u001b[1;32m     13\u001b[0m \u001b[0;32mfrom\u001b[0m \u001b[0;34m.\u001b[0m\u001b[0mutils_models\u001b[0m \u001b[0;32mimport\u001b[0m \u001b[0;34m*\u001b[0m\u001b[0;34m\u001b[0m\u001b[0m\n",
      "\u001b[0;32m/mnt/backup/DeepEnsemble/deepensemble/utils/utils_test.py\u001b[0m in \u001b[0;36m<module>\u001b[0;34m()\u001b[0m\n\u001b[1;32m      3\u001b[0m \u001b[0;32mimport\u001b[0m \u001b[0mmatplotlib\u001b[0m\u001b[0;34m.\u001b[0m\u001b[0mpylab\u001b[0m \u001b[0;32mas\u001b[0m \u001b[0mplt\u001b[0m\u001b[0;34m\u001b[0m\u001b[0m\n\u001b[1;32m      4\u001b[0m \u001b[0;32mimport\u001b[0m \u001b[0mnumpy\u001b[0m \u001b[0;32mas\u001b[0m \u001b[0mnp\u001b[0m\u001b[0;34m\u001b[0m\u001b[0m\n\u001b[0;32m----> 5\u001b[0;31m \u001b[0;32mfrom\u001b[0m \u001b[0msklearn\u001b[0m \u001b[0;32mimport\u001b[0m \u001b[0mcross_validation\u001b[0m\u001b[0;34m\u001b[0m\u001b[0m\n\u001b[0m\u001b[1;32m      6\u001b[0m \u001b[0;32mfrom\u001b[0m \u001b[0msklearn\u001b[0m\u001b[0;34m.\u001b[0m\u001b[0mmetrics\u001b[0m \u001b[0;32mimport\u001b[0m \u001b[0maccuracy_score\u001b[0m\u001b[0;34m,\u001b[0m \u001b[0mrecall_score\u001b[0m\u001b[0;34m,\u001b[0m \u001b[0mf1_score\u001b[0m\u001b[0;34m,\u001b[0m \u001b[0mprecision_score\u001b[0m\u001b[0;34m\u001b[0m\u001b[0m\n\u001b[1;32m      7\u001b[0m \u001b[0;32mfrom\u001b[0m \u001b[0msklearn\u001b[0m\u001b[0;34m.\u001b[0m\u001b[0mneighbors\u001b[0m\u001b[0;34m.\u001b[0m\u001b[0mkde\u001b[0m \u001b[0;32mimport\u001b[0m \u001b[0mKernelDensity\u001b[0m\u001b[0;34m\u001b[0m\u001b[0m\n",
      "\u001b[0;32m/usr/lib64/python3.4/site-packages/sklearn/cross_validation.py\u001b[0m in \u001b[0;36m<module>\u001b[0;34m()\u001b[0m\n\u001b[1;32m     30\u001b[0m \u001b[0;32mfrom\u001b[0m \u001b[0;34m.\u001b[0m\u001b[0mexternals\u001b[0m\u001b[0;34m.\u001b[0m\u001b[0msix\u001b[0m \u001b[0;32mimport\u001b[0m \u001b[0mwith_metaclass\u001b[0m\u001b[0;34m\u001b[0m\u001b[0m\n\u001b[1;32m     31\u001b[0m \u001b[0;32mfrom\u001b[0m \u001b[0;34m.\u001b[0m\u001b[0mexternals\u001b[0m\u001b[0;34m.\u001b[0m\u001b[0msix\u001b[0m\u001b[0;34m.\u001b[0m\u001b[0mmoves\u001b[0m \u001b[0;32mimport\u001b[0m \u001b[0mzip\u001b[0m\u001b[0;34m\u001b[0m\u001b[0m\n\u001b[0;32m---> 32\u001b[0;31m \u001b[0;32mfrom\u001b[0m \u001b[0;34m.\u001b[0m\u001b[0mmetrics\u001b[0m\u001b[0;34m.\u001b[0m\u001b[0mscorer\u001b[0m \u001b[0;32mimport\u001b[0m \u001b[0mcheck_scoring\u001b[0m\u001b[0;34m\u001b[0m\u001b[0m\n\u001b[0m\u001b[1;32m     33\u001b[0m \u001b[0;32mfrom\u001b[0m \u001b[0;34m.\u001b[0m\u001b[0mutils\u001b[0m\u001b[0;34m.\u001b[0m\u001b[0mfixes\u001b[0m \u001b[0;32mimport\u001b[0m \u001b[0mbincount\u001b[0m\u001b[0;34m\u001b[0m\u001b[0m\n\u001b[1;32m     34\u001b[0m \u001b[0;34m\u001b[0m\u001b[0m\n",
      "\u001b[0;32m/usr/lib64/python3.4/site-packages/sklearn/metrics/__init__.py\u001b[0m in \u001b[0;36m<module>\u001b[0;34m()\u001b[0m\n\u001b[1;32m     31\u001b[0m \u001b[0;32mfrom\u001b[0m \u001b[0;34m.\u001b[0m\u001b[0mclassification\u001b[0m \u001b[0;32mimport\u001b[0m \u001b[0mbrier_score_loss\u001b[0m\u001b[0;34m\u001b[0m\u001b[0m\n\u001b[1;32m     32\u001b[0m \u001b[0;34m\u001b[0m\u001b[0m\n\u001b[0;32m---> 33\u001b[0;31m \u001b[0;32mfrom\u001b[0m \u001b[0;34m.\u001b[0m \u001b[0;32mimport\u001b[0m \u001b[0mcluster\u001b[0m\u001b[0;34m\u001b[0m\u001b[0m\n\u001b[0m\u001b[1;32m     34\u001b[0m \u001b[0;32mfrom\u001b[0m \u001b[0;34m.\u001b[0m\u001b[0mcluster\u001b[0m \u001b[0;32mimport\u001b[0m \u001b[0madjusted_mutual_info_score\u001b[0m\u001b[0;34m\u001b[0m\u001b[0m\n\u001b[1;32m     35\u001b[0m \u001b[0;32mfrom\u001b[0m \u001b[0;34m.\u001b[0m\u001b[0mcluster\u001b[0m \u001b[0;32mimport\u001b[0m \u001b[0madjusted_rand_score\u001b[0m\u001b[0;34m\u001b[0m\u001b[0m\n",
      "\u001b[0;32m/usr/lib64/python3.4/site-packages/sklearn/metrics/cluster/__init__.py\u001b[0m in \u001b[0;36m<module>\u001b[0;34m()\u001b[0m\n\u001b[1;32m     17\u001b[0m \u001b[0;32mfrom\u001b[0m \u001b[0;34m.\u001b[0m\u001b[0msupervised\u001b[0m \u001b[0;32mimport\u001b[0m \u001b[0mv_measure_score\u001b[0m\u001b[0;34m\u001b[0m\u001b[0m\n\u001b[1;32m     18\u001b[0m \u001b[0;32mfrom\u001b[0m \u001b[0;34m.\u001b[0m\u001b[0msupervised\u001b[0m \u001b[0;32mimport\u001b[0m \u001b[0mentropy\u001b[0m\u001b[0;34m\u001b[0m\u001b[0m\n\u001b[0;32m---> 19\u001b[0;31m \u001b[0;32mfrom\u001b[0m \u001b[0;34m.\u001b[0m\u001b[0munsupervised\u001b[0m \u001b[0;32mimport\u001b[0m \u001b[0msilhouette_samples\u001b[0m\u001b[0;34m\u001b[0m\u001b[0m\n\u001b[0m\u001b[1;32m     20\u001b[0m \u001b[0;32mfrom\u001b[0m \u001b[0;34m.\u001b[0m\u001b[0munsupervised\u001b[0m \u001b[0;32mimport\u001b[0m \u001b[0msilhouette_score\u001b[0m\u001b[0;34m\u001b[0m\u001b[0m\n\u001b[1;32m     21\u001b[0m \u001b[0;32mfrom\u001b[0m \u001b[0;34m.\u001b[0m\u001b[0mbicluster\u001b[0m \u001b[0;32mimport\u001b[0m \u001b[0mconsensus_score\u001b[0m\u001b[0;34m\u001b[0m\u001b[0m\n",
      "\u001b[0;32m/usr/lib64/python3.4/site-packages/sklearn/metrics/cluster/unsupervised.py\u001b[0m in \u001b[0;36m<module>\u001b[0;34m()\u001b[0m\n\u001b[1;32m      8\u001b[0m \u001b[0;34m\u001b[0m\u001b[0m\n\u001b[1;32m      9\u001b[0m \u001b[0;32mfrom\u001b[0m \u001b[0;34m...\u001b[0m\u001b[0mutils\u001b[0m \u001b[0;32mimport\u001b[0m \u001b[0mcheck_random_state\u001b[0m\u001b[0;34m\u001b[0m\u001b[0m\n\u001b[0;32m---> 10\u001b[0;31m \u001b[0;32mfrom\u001b[0m \u001b[0;34m.\u001b[0m\u001b[0;34m.\u001b[0m\u001b[0mpairwise\u001b[0m \u001b[0;32mimport\u001b[0m \u001b[0mpairwise_distances\u001b[0m\u001b[0;34m\u001b[0m\u001b[0m\n\u001b[0m\u001b[1;32m     11\u001b[0m \u001b[0;34m\u001b[0m\u001b[0m\n\u001b[1;32m     12\u001b[0m \u001b[0;34m\u001b[0m\u001b[0m\n",
      "\u001b[0;32m/usr/lib64/python3.4/site-packages/sklearn/metrics/pairwise.py\u001b[0m in \u001b[0;36m<module>\u001b[0;34m()\u001b[0m\n\u001b[1;32m     27\u001b[0m \u001b[0;32mfrom\u001b[0m  \u001b[0mjoblib\u001b[0m\u001b[0;34m.\u001b[0m\u001b[0mparallel\u001b[0m \u001b[0;32mimport\u001b[0m \u001b[0mcpu_count\u001b[0m\u001b[0;34m\u001b[0m\u001b[0m\n\u001b[1;32m     28\u001b[0m \u001b[0;34m\u001b[0m\u001b[0m\n\u001b[0;32m---> 29\u001b[0;31m \u001b[0;32mfrom\u001b[0m \u001b[0;34m.\u001b[0m\u001b[0mpairwise_fast\u001b[0m \u001b[0;32mimport\u001b[0m \u001b[0m_chi2_kernel_fast\u001b[0m\u001b[0;34m,\u001b[0m \u001b[0m_sparse_manhattan\u001b[0m\u001b[0;34m\u001b[0m\u001b[0m\n\u001b[0m\u001b[1;32m     30\u001b[0m \u001b[0;34m\u001b[0m\u001b[0m\n\u001b[1;32m     31\u001b[0m \u001b[0;34m\u001b[0m\u001b[0m\n",
      "\u001b[0;31mImportError\u001b[0m: libcblas.so: cannot open shared object file: No such file or directory"
     ]
    }
   ],
   "source": [
    "import numpy as np\n",
    "import theano\n",
    "\n",
    "import os\n",
    "import sys\n",
    "\n",
    "sys.path.insert(0, os.path.abspath('../../..'))  # load deepensemble library\n",
    "\n",
    "from deepensemble.models.sequential import Sequential\n",
    "from deepensemble.layers.dense import Dense\n",
    "from deepensemble.utils import *\n",
    "from deepensemble.metrics import FactoryMetrics\n",
    "from deepensemble.utils.utils_functions import ActivationFunctions\n",
    "\n",
    "path_data = r'data/australian.dat'\n",
    "data = np.genfromtxt(path_data, delimiter=' ')\n",
    "\n",
    "classes_names = np.asarray(['clase 1', 'clase 2'], dtype='<U10')\n",
    "data_input    = np.asarray(data[:, 0:-1], dtype=theano.config.floatX)\n",
    "data_target   = classes_names[np.asarray(data[:, -1:], dtype=int)]"
   ]
  },
  {
   "cell_type": "markdown",
   "metadata": {
    "deletable": true,
    "editable": true
   },
   "source": [
    "### Experimental Setup\n",
    "\n",
    "The data set was partitioned into two sets: a training set and a testing set. The first 518 examples were used for the training set, and the remaining 172 examples for the testing set. The input attributes were rescaled to between 0.0 and 1.0 by a linear function. (**Ensemble learning via negative correlation, Y. Liua, X. Yao**)"
   ]
  },
  {
   "cell_type": "code",
   "execution_count": null,
   "metadata": {
    "collapsed": false,
    "deletable": true,
    "editable": true
   },
   "outputs": [],
   "source": [
    "from sklearn import preprocessing\n",
    "\n",
    "data_input_norm = preprocessing.MinMaxScaler().fit_transform(data_input)\n",
    "\n",
    "input_train = data_input_norm[0:517]\n",
    "input_test = data_input_norm[518:690]\n",
    "target_train = data_target[0:517]\n",
    "target_test = data_target[518:690]"
   ]
  },
  {
   "cell_type": "markdown",
   "metadata": {
    "deletable": true,
    "editable": true
   },
   "source": [
    "## Training MLP\n",
    "\n",
    "This model has ten neurons in hidden layer and the output layer two neurons with **one hot encoding**. The cost function is MSE and update function is Stochastic gradient descendent. "
   ]
  },
  {
   "cell_type": "code",
   "execution_count": null,
   "metadata": {
    "collapsed": false,
    "deletable": true,
    "editable": true
   },
   "outputs": [],
   "source": [
    "mlp = Sequential(\"mlp\", \"classifier\", classes_names)\n",
    "mlp.add_layer(Dense(n_input=data_input.shape[1], n_output=40, activation=ActivationFunctions.sigmoid))\n",
    "mlp.add_layer(Dense(n_output=len(classes_names), activation=ActivationFunctions.sigmoid))\n",
    "mlp.append_cost(mse, name='MSE')\n",
    "mlp.set_update(sgd, name='SGD',  learning_rate=0.1)\n",
    "mlp.compile(fast=False)\n",
    "\n",
    "metrics_mlp = FactoryMetrics.get_metric(mlp)\n",
    "\n",
    "max_epoch = 250\n",
    "validation_jump = 5\n",
    "\n",
    "Logger().reset()\n",
    "for i in range(25):                      \n",
    "    # training\n",
    "    metric = mlp.fit(input_train, target_train, max_epoch=max_epoch, batch_size=32, early_stop=False)\n",
    "    # Compute metrics\n",
    "    metrics_mlp.append_prediction(input_test, target_test)\n",
    "    metrics_mlp.append_metric(metric)\n",
    "    \n",
    "    # Reset parameters\n",
    "    mlp.reset()\n",
    "\n",
    "print(\"FINISHED MLP!\")"
   ]
  },
  {
   "cell_type": "markdown",
   "metadata": {
    "collapsed": false,
    "deletable": true,
    "editable": true
   },
   "source": [
    "## Results MLP"
   ]
  },
  {
   "cell_type": "code",
   "execution_count": null,
   "metadata": {
    "collapsed": false,
    "deletable": true,
    "editable": true
   },
   "outputs": [],
   "source": [
    "%matplotlib notebook\n",
    "import matplotlib.pylab as plt\n",
    "\n",
    "plt.style.use('fivethirtyeight')\n",
    "\n",
    "metrics_mlp.classification_report()\n",
    "metrics_mlp.plot_confusion_matrix()\n",
    "metrics_mlp.plot_cost(max_epoch, \"Cost training MLP\")\n",
    "metrics_mlp.plot_scores(max_epoch, \"Accuracy training MLP\")\n",
    "\n",
    "plt.tight_layout()"
   ]
  },
  {
   "cell_type": "markdown",
   "metadata": {
    "collapsed": true,
    "deletable": true,
    "editable": true
   },
   "source": [
    "## Ensemble"
   ]
  },
  {
   "cell_type": "code",
   "execution_count": null,
   "metadata": {
    "collapsed": false,
    "deletable": true,
    "editable": true
   },
   "outputs": [],
   "source": [
    "from deepensemble.models import EnsembleModel\n",
    "from deepensemble.combiner import *\n",
    "\n",
    "# Create Ensemble\n",
    "ensemble = EnsembleModel(name=\"Ensemble\")\n",
    "\n",
    "# Create models for ensemble\n",
    "for i in range(4):\n",
    "    net = Sequential(\"net%d_ens\" % i, \"classifier\", classes_names)\n",
    "    net.add_layer(Dense(n_input=data_input.shape[1], n_output=10, activation=ActivationFunctions.sigmoid))\n",
    "    net.add_layer(Dense(n_output=len(classes_names), activation=ActivationFunctions.sigmoid))\n",
    "    net.append_cost(mse, name='MSE')\n",
    "    net.set_update(sgd, name='SGD', learning_rate=0.1)\n",
    "    ensemble.append_model(net)\n",
    "\n",
    "ensemble.set_combiner(PluralityVotingCombiner())\n",
    "ensemble.compile(fast=False)\n",
    "\n",
    "metrics_ensemble = FactoryMetrics.get_metric(ensemble)\n",
    "\n",
    "Logger().reset()\n",
    "for i in range(25):                      \n",
    "    # training\n",
    "    metrics = ensemble.fit(input_train, target_train,\n",
    "                            max_epoch=max_epoch, batch_size=32, early_stop=False)\n",
    "    # Compute metrics\n",
    "    metrics_ensemble.append_prediction(input_test, target_test)\n",
    "    metrics_ensemble.append_prediction_per_model(input_test, target_test)\n",
    "    metrics_ensemble.append_metric(metrics)\n",
    "    \n",
    "    # Reset parameters of all ensemble's models\n",
    "    ensemble.reset()\n",
    "\n",
    "print(\"FINISHED!\")"
   ]
  },
  {
   "cell_type": "markdown",
   "metadata": {
    "deletable": true,
    "editable": true
   },
   "source": [
    "### Result Ensemble"
   ]
  },
  {
   "cell_type": "code",
   "execution_count": null,
   "metadata": {
    "collapsed": false,
    "deletable": true,
    "editable": true,
    "scrolled": false
   },
   "outputs": [],
   "source": [
    "metrics_ensemble.classification_report()\n",
    "metrics_ensemble.diversity_report()\n",
    "metrics_ensemble.plot_confusion_matrix()\n",
    "metrics_ensemble.plot_cost(max_epoch, \"Cost training Ensemble\")\n",
    "metrics_ensemble.plot_costs(max_epoch, \"Cost training Ensemble per models\")\n",
    "metrics_ensemble.plot_scores(max_epoch, \"Accuracy training Ensemble per models\")\n",
    "\n",
    "plt.tight_layout()"
   ]
  },
  {
   "cell_type": "markdown",
   "metadata": {
    "collapsed": true,
    "deletable": true,
    "editable": true
   },
   "source": [
    "## Training Ensemble - Negative Correlation (Xin Yao, 1999)\n",
    "\n",
    "The ensemble architecture used in the experiments has four networks. Each individual network is a feedforward network with one hidden layer. Both the hidden node function and the output node function are defined by the logistic function. All the individual networks have ten hidden nodes. The number of training epochs was set to 250. The strength parameter of negative correlations was set to 1.0. These parameters were chosen after limited preliminary experiments. They are not meant to be optimal."
   ]
  },
  {
   "cell_type": "code",
   "execution_count": null,
   "metadata": {
    "collapsed": false,
    "deletable": true,
    "editable": true
   },
   "outputs": [],
   "source": [
    "# Create Ensemble\n",
    "ensemble_nc = EnsembleModel(name=\"Ensemble NC\")\n",
    "\n",
    "# Create models for ensemble\n",
    "for i in range(4):\n",
    "    net = Sequential(\"net%d_ens_nc\" % i, \"classifier\", classes_names)\n",
    "    net.add_layer(Dense(n_input=data_input.shape[1], n_output=10, activation=ActivationFunctions.sigmoid))\n",
    "    net.add_layer(Dense(n_output=len(classes_names), activation=ActivationFunctions.sigmoid))\n",
    "    net.append_cost(mse, name='MSE')\n",
    "    net.set_update(sgd, name='SGD', learning_rate=0.1)\n",
    "    ensemble_nc.append_model(net)\n",
    "\n",
    "ensemble_nc.add_cost_ensemble(fun_cost=neg_corr, name='NCL', lamb=1.0)  # adds neg correlation in all models\n",
    "ensemble_nc.set_combiner(PluralityVotingCombiner())\n",
    "ensemble_nc.compile(fast=False)\n",
    "\n",
    "metrics_ensemble_nc = FactoryMetrics.get_metric(ensemble_nc)\n",
    "\n",
    "Logger().reset()\n",
    "for i in range(25):                      \n",
    "    # training\n",
    "    metrics = ensemble_nc.fit(input_train, target_train,\n",
    "                                max_epoch=max_epoch, batch_size=32, early_stop=False)\n",
    "    # Compute metrics\n",
    "    metrics_ensemble_nc.append_prediction(input_test, target_test)\n",
    "    metrics_ensemble_nc.append_prediction_per_model(input_test, target_test)\n",
    "    metrics_ensemble_nc.append_metric(metrics)\n",
    "    \n",
    "    # Reset parameters of all ensemble's models\n",
    "    ensemble_nc.reset()\n",
    "\n",
    "print(\"FINISHED!\")"
   ]
  },
  {
   "cell_type": "markdown",
   "metadata": {
    "deletable": true,
    "editable": true
   },
   "source": [
    "### Results Ensemble - Negative Correlation"
   ]
  },
  {
   "cell_type": "code",
   "execution_count": null,
   "metadata": {
    "collapsed": false,
    "deletable": true,
    "editable": true,
    "scrolled": false
   },
   "outputs": [],
   "source": [
    "metrics_ensemble_nc.classification_report()\n",
    "metrics_ensemble_nc.diversity_report()\n",
    "metrics_ensemble_nc.plot_confusion_matrix()\n",
    "metrics_ensemble_nc.plot_cost(max_epoch, \"Cost training Ensemble-NC\")\n",
    "metrics_ensemble_nc.plot_costs(max_epoch, \"Cost training Ensemble-NC per models\")\n",
    "metrics_ensemble_nc.plot_scores(max_epoch, \"Accuracy training Ensemble-NC per models\")\n",
    "\n",
    "plt.tight_layout()"
   ]
  },
  {
   "cell_type": "markdown",
   "metadata": {
    "deletable": true,
    "editable": true
   },
   "source": [
    "## Training Ensemble - Correntropy"
   ]
  },
  {
   "cell_type": "code",
   "execution_count": null,
   "metadata": {
    "collapsed": false,
    "deletable": true,
    "editable": true
   },
   "outputs": [],
   "source": [
    "# Create Ensemble\n",
    "ensemble_corrpy = EnsembleModel(name=\"Ensemble Correntropy\")\n",
    "\n",
    "# Create models for ensemble\n",
    "for i in range(4):\n",
    "    net = Sequential(\"net%d_ens_corrpy\" % i, \"classifier\", classes_names)\n",
    "    net.add_layer(Dense(n_input=data_input.shape[1], n_output=10, activation=ActivationFunctions.sigmoid))\n",
    "    net.add_layer(Dense(n_output=len(classes_names), activation=ActivationFunctions.softmax))\n",
    "    net.append_cost(kullback_leibler_generalized, name=\"KLG\")\n",
    "    net.set_update(sgd, name='SGD', learning_rate=0.001)\n",
    "    \n",
    "    net.compile()\n",
    "    net.fit(input_train, target_train, max_epoch=max_epoch, batch_size=32, early_stop=False)\n",
    "    \n",
    "    ensemble_corrpy.append_model(net)\n",
    "    \n",
    "\n",
    "ensemble_corrpy.add_cost_ensemble(neg_correntropy, name=\"NEG_CORRPY\", lamb=1.0)  # adds correntropy cost in all models\n",
    "ensemble_corrpy.set_combiner(PluralityVotingCombiner())\n",
    "ensemble_corrpy.compile(fast=False)\n",
    "\n",
    "metrics_ensemble_corrpy = FactoryMetrics.get_metric(ensemble_corrpy)\n",
    "\n",
    "Logger().reset()\n",
    "for i in range(25):                      \n",
    "    # training\n",
    "    metrics = ensemble_corrpy.fit(input_train, target_train,\n",
    "                                max_epoch=max_epoch, batch_size=32, early_stop=False)\n",
    "    # Compute metrics\n",
    "    metrics_ensemble_corrpy.append_prediction(input_test, target_test)\n",
    "    metrics_ensemble_corrpy.append_prediction_per_model(input_test, target_test)\n",
    "    metrics_ensemble_corrpy.append_metric(metrics)\n",
    "    \n",
    "    # Reset parameters of all ensemble's models\n",
    "    ensemble_corrpy.reset()\n",
    "\n",
    "print(\"FINISHED!\")"
   ]
  },
  {
   "cell_type": "markdown",
   "metadata": {
    "deletable": true,
    "editable": true
   },
   "source": [
    "### Results Ensemble - Correntropy"
   ]
  },
  {
   "cell_type": "code",
   "execution_count": null,
   "metadata": {
    "collapsed": false,
    "deletable": true,
    "editable": true,
    "scrolled": false
   },
   "outputs": [],
   "source": [
    "metrics_ensemble_corrpy.classification_report()\n",
    "metrics_ensemble_corrpy.diversity_report()\n",
    "metrics_ensemble_corrpy.plot_confusion_matrix()\n",
    "metrics_ensemble_corrpy.plot_cost(max_epoch, \"Cost training Ensemble-Correntropy\")\n",
    "metrics_ensemble_corrpy.plot_costs(max_epoch, \"Cost training Ensemble-Correntropy per models\")\n",
    "metrics_ensemble_corrpy.plot_scores(max_epoch, \"Accuracy training Ensemble-Correntropy per models\")\n",
    "\n",
    "plt.tight_layout()"
   ]
  },
  {
   "cell_type": "code",
   "execution_count": null,
   "metadata": {
    "collapsed": true,
    "deletable": true,
    "editable": true
   },
   "outputs": [],
   "source": []
  }
 ],
 "metadata": {
  "anaconda-cloud": {},
  "kernelspec": {
   "display_name": "Python 3",
   "language": "python",
   "name": "python3"
  },
  "language_info": {
   "codemirror_mode": {
    "name": "ipython",
    "version": 3
   },
   "file_extension": ".py",
   "mimetype": "text/x-python",
   "name": "python",
   "nbconvert_exporter": "python",
   "pygments_lexer": "ipython3",
   "version": "3.4.5"
  }
 },
 "nbformat": 4,
 "nbformat_minor": 0
}
