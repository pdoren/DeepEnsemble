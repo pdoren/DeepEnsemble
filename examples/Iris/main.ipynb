{
 "cells": [
  {
   "cell_type": "markdown",
   "metadata": {},
   "source": [
    "# Iris"
   ]
  },
  {
   "cell_type": "markdown",
   "metadata": {},
   "source": [
    "## Data\n"
   ]
  },
  {
   "cell_type": "code",
   "execution_count": 1,
   "metadata": {
    "collapsed": false
   },
   "outputs": [
    {
     "name": "stderr",
     "output_type": "stream",
     "text": [
      "Using gpu device 0: GeForce GT 630M (CNMeM is enabled with initial size: 75.0% of memory, CuDNN not available)\n"
     ]
    }
   ],
   "source": [
    "import theano\n",
    "import theano.tensor as T\n",
    "import numpy as np\n",
    "from sklearn.datasets import load_iris\n",
    "from theano.sandbox import cuda\n",
    "\n",
    "theano.config.floatX = 'float32'\n",
    "cuda.use('gpu')\n",
    "theano.config.compute_test_value = 'off'\n",
    "\n",
    "iris = load_iris()\n",
    "\n",
    "data_input    = np.asarray(iris.data, dtype=theano.config.floatX)\n",
    "data_target   = iris.target_names[iris.target]\n",
    "classes_names = iris.target_names"
   ]
  },
  {
   "cell_type": "markdown",
   "metadata": {},
   "source": [
    "## Training"
   ]
  },
  {
   "cell_type": "code",
   "execution_count": 2,
   "metadata": {
    "collapsed": false
   },
   "outputs": [
    {
     "ename": "ImportError",
     "evalue": "No module named 'libml.utils.regularizer_function'",
     "output_type": "error",
     "traceback": [
      "\u001b[0;31m---------------------------------------------------------------------------\u001b[0m",
      "\u001b[0;31mImportError\u001b[0m                               Traceback (most recent call last)",
      "\u001b[0;32m<ipython-input-2-558ab11fe2a3>\u001b[0m in \u001b[0;36m<module>\u001b[0;34m()\u001b[0m\n\u001b[1;32m      8\u001b[0m \u001b[1;32mfrom\u001b[0m \u001b[0mlibml\u001b[0m\u001b[1;33m.\u001b[0m\u001b[0mutils\u001b[0m\u001b[1;33m.\u001b[0m\u001b[0mcost_functions\u001b[0m \u001b[1;32mimport\u001b[0m \u001b[1;33m*\u001b[0m\u001b[1;33m\u001b[0m\u001b[0m\n\u001b[1;32m      9\u001b[0m \u001b[1;32mfrom\u001b[0m \u001b[0mlibml\u001b[0m\u001b[1;33m.\u001b[0m\u001b[0mutils\u001b[0m\u001b[1;33m.\u001b[0m\u001b[0mupdate_functions\u001b[0m \u001b[1;32mimport\u001b[0m \u001b[1;33m*\u001b[0m\u001b[1;33m\u001b[0m\u001b[0m\n\u001b[0;32m---> 10\u001b[0;31m \u001b[1;32mfrom\u001b[0m \u001b[0mlibml\u001b[0m\u001b[1;33m.\u001b[0m\u001b[0mutils\u001b[0m\u001b[1;33m.\u001b[0m\u001b[0mregularizer_function\u001b[0m \u001b[1;32mimport\u001b[0m \u001b[1;33m*\u001b[0m\u001b[1;33m\u001b[0m\u001b[0m\n\u001b[0m\u001b[1;32m     11\u001b[0m \u001b[1;32mfrom\u001b[0m \u001b[0mlibml\u001b[0m\u001b[1;33m.\u001b[0m\u001b[0mutils\u001b[0m\u001b[1;33m.\u001b[0m\u001b[0mmetrics\u001b[0m\u001b[1;33m.\u001b[0m\u001b[0mclassifiermetrics\u001b[0m \u001b[1;32mimport\u001b[0m \u001b[0mClassifierMetrics\u001b[0m\u001b[1;33m\u001b[0m\u001b[0m\n\u001b[1;32m     12\u001b[0m \u001b[1;32mfrom\u001b[0m \u001b[0msklearn\u001b[0m\u001b[1;33m.\u001b[0m\u001b[0mcross_validation\u001b[0m \u001b[1;32mimport\u001b[0m \u001b[0mShuffleSplit\u001b[0m\u001b[1;33m\u001b[0m\u001b[0m\n",
      "\u001b[0;31mImportError\u001b[0m: No module named 'libml.utils.regularizer_function'"
     ]
    }
   ],
   "source": [
    "import sys\n",
    "import time\n",
    "\n",
    "sys.path.insert(0, r'../../')\n",
    "\n",
    "from libml.models.sequential import Sequential\n",
    "from libml.layers.dense import Dense\n",
    "from libml.utils.cost_functions import *\n",
    "from libml.utils.update_functions import *\n",
    "from libml.utils.regularizer_function import *\n",
    "from libml.utils.metrics.classifiermetrics import ClassifierMetrics\n",
    "from sklearn.cross_validation import ShuffleSplit\n",
    "\n",
    "classifier = Sequential(classes_names, \"classifier\")\n",
    "classifier.add_layer(Dense(n_input=data_input.shape[1], n_output=3, activation=T.tanh))\n",
    "classifier.add_layer(Dense(n_output=len(classes_names), activation=T.nnet.softmax))\n",
    "classifier.append_cost(mse)\n",
    "classifier.append_reg(L1, lamb=0.005)\n",
    "classifier.append_reg(L2, lamb=0.001)\n",
    "classifier.set_update(adagrad, initial_learning_rate=0.15)\n",
    "classifier.compile()\n",
    "\n",
    "folds = 4\n",
    "sss = ShuffleSplit(data_input.shape[0], n_iter=folds, test_size=None, train_size=0.6, random_state=0)\n",
    "max_epoch = 400\n",
    "validation_jump = 5\n",
    "\n",
    "# Initialize metrics\n",
    "metrics = ClassifierMetrics(classes_names)\n",
    "\n",
    "for i, (train_set, test_set) in enumerate(sss):                      \n",
    "    # data train and test\n",
    "    input_train = data_input[train_set]\n",
    "    input_test = data_input[test_set]\n",
    "    target_train = data_target[train_set]\n",
    "    target_test = data_target[test_set]\n",
    "\n",
    "    # training\n",
    "    tic = time.time()\n",
    "    train_cost = classifier.fit(input_train, target_train,\n",
    "                                max_epoch=max_epoch, batch_size=32,\n",
    "                                validation_jump=validation_jump, early_stop_th=4)\n",
    "    toc = time.time()\n",
    "\n",
    "    # Compute metrics\n",
    "    metrics.append_prediction(target_test, classifier.predict(input_test))\n",
    "    metrics.append_cost(train_cost)\n",
    "    \n",
    "    # Reset parameters\n",
    "    classifier.reset()\n",
    "\n",
    "    print(\"%d Elapsed time [s]: %f\" % (i, toc - tic))\n",
    "\n",
    "print(\"FINISHED!\")"
   ]
  },
  {
   "cell_type": "markdown",
   "metadata": {},
   "source": [
    "## Results"
   ]
  },
  {
   "cell_type": "code",
   "execution_count": null,
   "metadata": {
    "collapsed": false
   },
   "outputs": [],
   "source": [
    "%matplotlib inline\n",
    "import matplotlib.pylab as plt\n",
    "\n",
    "metrics.print()\n",
    "metrics.plot_confusion_matrix()\n",
    "metrics.plot_cost(max_epoch)\n",
    "\n",
    "plt.tight_layout()"
   ]
  },
  {
   "cell_type": "code",
   "execution_count": null,
   "metadata": {
    "collapsed": true
   },
   "outputs": [],
   "source": []
  }
 ],
 "metadata": {
  "anaconda-cloud": {},
  "kernelspec": {
   "display_name": "Python [default]",
   "language": "python",
   "name": "python3"
  },
  "language_info": {
   "codemirror_mode": {
    "name": "ipython",
    "version": 3
   },
   "file_extension": ".py",
   "mimetype": "text/x-python",
   "name": "python",
   "nbconvert_exporter": "python",
   "pygments_lexer": "ipython3",
   "version": "3.4.4"
  }
 },
 "nbformat": 4,
 "nbformat_minor": 0
}
