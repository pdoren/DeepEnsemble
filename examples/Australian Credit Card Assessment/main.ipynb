{
 "cells": [
  {
   "cell_type": "markdown",
   "metadata": {
    "collapsed": true
   },
   "source": [
    "# Example Ensembles: Australian Credit Card Assessment\n",
    "\n",
    "In this example it will be compared 3 classifiers:\n",
    "- Multilayer perceptron.\n",
    "- Ensemble trained with Negative Correlation.\n",
    "- Ensemble trained with Correntropy."
   ]
  },
  {
   "cell_type": "markdown",
   "metadata": {},
   "source": [
    "## Data\n",
    "\n",
    "This data base concerns credit card applications. All attribute names and values have been changed to meaningless symbols to protect confidentiality of the data. This dataset is interesting because there is a good mix of attributes -- continuous, nominal with small numbers of values, and nominal with larger numbers of values. There are also a few missing values.\n",
    "  \n",
    "- Number of Instances: 690\n",
    "- Number of Attributes: 14 + class attribute\n",
    "- Attribute Information:   THERE ARE 6 NUMERICAL AND 8 CATEGORICAL ATTRIBUTES.\n",
    "- Exist 2 classes and its distribution is:\n",
    "    * +: 307 (44.5%)    CLASS 2\n",
    "    * -: 383 (55.5%)    CLASS 1\n",
    "- there are 6 numerical and 8 categorical attributes. the labels have been changed for the convenience of the statistical algorithms. For example, attribute 4 originally had 3 labels p,g,gg and these have been changed to labels 1,2,3.\n",
    "\n",
    "- Missing Attribute Values: 37 cases (5%) HAD one or more missing values. The missing values from particular attributes WERE:\n",
    "    * A1:  12\n",
    "    * A2:  12\n",
    "    * A4:   6\n",
    "    * A5:   6\n",
    "    * A6:   9\n",
    "    * A7:   9\n",
    "    * A14: 13\n",
    " \n",
    "  These were replaced by the mode of the attribute (categorical) and mean of the attribute (continuous)\n"
   ]
  },
  {
   "cell_type": "code",
   "execution_count": null,
   "metadata": {
    "collapsed": false
   },
   "outputs": [],
   "source": [
    "import theano\n",
    "import theano.tensor as T\n",
    "import numpy as np\n",
    "from theano.sandbox import cuda\n",
    "\n",
    "theano.config.floatX = 'float32'\n",
    "cuda.use('gpu')\n",
    "theano.config.compute_test_value = 'off'\n",
    "\n",
    "path_data = r'data\\australian.dat'\n",
    "data = np.genfromtxt(path_data, delimiter=' ')\n",
    "\n",
    "classes_names = np.asarray(['clase 1', 'clase 2'], dtype='<U10')\n",
    "data_input    = np.asarray(data[:, 0:-1], dtype=theano.config.floatX)\n",
    "data_target   = classes_names[np.asarray(data[:, -1:], dtype=int)]"
   ]
  },
  {
   "cell_type": "markdown",
   "metadata": {},
   "source": [
    "## Training MLP\n",
    "\n"
   ]
  },
  {
   "cell_type": "code",
   "execution_count": null,
   "metadata": {
    "collapsed": false
   },
   "outputs": [],
   "source": [
    "import time\n",
    "from libml.models.sequential import Sequential\n",
    "from libml.layers.dense import Dense\n",
    "from libml.utils import *\n",
    "\n",
    "from sklearn.cross_validation import ShuffleSplit\n",
    "\n",
    "mlp = Sequential(classes_names, \"classifier\", \"mlp\")\n",
    "mlp.add_layer(Dense(n_input=data_input.shape[1], n_output=10, activation=T.nnet.sigmoid))\n",
    "mlp.add_layer(Dense(n_output=len(classes_names), activation=T.nnet.sigmoid))\n",
    "mlp.append_cost(mse)\n",
    "mlp.set_update(sgd_momentum, learning_rate=0.1, momentum_rate=0.9)\n",
    "mlp.compile()\n",
    "\n",
    "folds = 3\n",
    "sss = ShuffleSplit(data_input.shape[0], n_iter=folds, test_size=None, train_size=0.75, random_state=0)\n",
    "max_epoch = 250\n",
    "validation_jump = 5\n",
    "\n",
    "metrics_mlp = ClassifierMetrics(mlp)\n",
    "\n",
    "for i, (train_set, test_set) in enumerate(sss):                      \n",
    "    # data train and test\n",
    "    input_train = data_input[train_set]\n",
    "    input_test = data_input[test_set]\n",
    "    target_train = data_target[train_set]\n",
    "    target_test = data_target[test_set]\n",
    "\n",
    "    # training\n",
    "    tic = time.time()\n",
    "    metric = mlp.fit(input_train, target_train,\n",
    "                                max_epoch=max_epoch, batch_size=32,\n",
    "                                validation_jump=validation_jump, early_stop_th=4)\n",
    "    toc = time.time()\n",
    "\n",
    "    # Compute metrics\n",
    "    metrics_mlp.append_prediction(target_test, mlp.predict(input_test))\n",
    "    metrics_mlp.append_metric(metric)\n",
    "    \n",
    "    # Reset parameters\n",
    "    mlp.reset()\n",
    "\n",
    "    print(\"%d Elapsed time [s]: %f\" % (i, toc - tic))\n",
    "\n",
    "print(\"FINISHED!\")"
   ]
  },
  {
   "cell_type": "markdown",
   "metadata": {
    "collapsed": false
   },
   "source": [
    "## Results MLP"
   ]
  },
  {
   "cell_type": "code",
   "execution_count": null,
   "metadata": {
    "collapsed": false
   },
   "outputs": [],
   "source": [
    "%matplotlib inline\n",
    "import matplotlib.pylab as plt\n",
    "\n",
    "metrics_mlp.plot_confusion_matrix()\n",
    "metrics_mlp.plot_cost(max_epoch, \"Cost training MLP\")\n",
    "metrics_mlp.plot_score(max_epoch, \"Accuracy training MLP\")\n",
    "\n",
    "plt.tight_layout()"
   ]
  },
  {
   "cell_type": "markdown",
   "metadata": {
    "collapsed": true
   },
   "source": [
    "## Training Ensemble - Negative Correlation (Xin Yao, 1999)"
   ]
  },
  {
   "cell_type": "code",
   "execution_count": null,
   "metadata": {
    "collapsed": true
   },
   "outputs": [],
   "source": [
    "from libml.ensemble.ensemblemodel import EnsembleModel\n",
    "\n",
    "# Create Ensemble\n",
    "ensemble = EnsembleModel()\n",
    "\n",
    "# Create models for ensemble\n",
    "for i in range(4):\n",
    "    net = Sequential(classes_names, \"classifier\", \"net%d_ens_nc\" % i)\n",
    "    net.add_layer(Dense(n_input=data_input.shape[1], n_output=10, activation=T.nnet.sigmoid))\n",
    "    net.add_layer(Dense(n_output=len(classes_names), activation=T.nnet.sigmoid))\n",
    "    net.append_cost(mse)\n",
    "    net.set_update(sgd_momentum, learning_rate=0.1, momentum_rate=0.9)\n",
    "    ensemble.append_model(net)\n",
    "\n",
    "ensemble.add_cost_ensemble(fun_cost=neg_corr, lamb_neg_corr=1.0)  # adds neg correlation in all models\n",
    "ensemble.compile()\n",
    "\n",
    "metrics_ensemble = EnsembleClassifierMetrics(ensemble)\n",
    "\n",
    "for i, (train_set, test_set) in enumerate(sss):                      \n",
    "    # data train and test\n",
    "    input_train = data_input[train_set]\n",
    "    input_test = data_input[test_set]\n",
    "    target_train = data_target[train_set]\n",
    "    target_test = data_target[test_set]\n",
    "\n",
    "    # training\n",
    "    tic = time.time()\n",
    "    metrics = ensemble.fit(input_train, target_train,\n",
    "                                max_epoch=max_epoch, batch_size=32,\n",
    "                                validation_jump=validation_jump, early_stop_th=4)\n",
    "    toc = time.time()\n",
    "\n",
    "    # Compute metrics\n",
    "    metrics_ensemble.append_prediction(target_test, ensemble.predict(input_test))\n",
    "    metrics_ensemble.append_metric(metrics)\n",
    "    \n",
    "    # Reset parameters\n",
    "    ensemble.reset()\n",
    "\n",
    "    print(\"%d Elapsed time [s]: %f\" % (i, toc - tic))\n",
    "\n",
    "print(\"FINISHED!\")"
   ]
  },
  {
   "cell_type": "markdown",
   "metadata": {},
   "source": [
    "## Results Ensemble - Negative Correlation"
   ]
  },
  {
   "cell_type": "code",
   "execution_count": null,
   "metadata": {
    "collapsed": true
   },
   "outputs": [],
   "source": [
    "%matplotlib inline\n",
    "import matplotlib.pylab as plt\n",
    "\n",
    "metrics_ensemble.plot_confusion_matrix()\n",
    "metrics_ensemble.plot_cost(max_epoch, \"Cost training Ensemble-NC\")\n",
    "metrics_ensemble.plot_cost_models(max_epoch, \"Cost training Ensemble-NC per models\")\n",
    "metrics_ensemble.plot_score(max_epoch, \"Accuracy training Ensemble-NC\")\n",
    "metrics_ensemble.plot_score(max_epoch, \"Accuracy training Ensemble-NC per models\")\n",
    "\n",
    "plt.tight_layout()"
   ]
  }
 ],
 "metadata": {
  "anaconda-cloud": {},
  "kernelspec": {
   "display_name": "Python [default]",
   "language": "python",
   "name": "python3"
  },
  "language_info": {
   "codemirror_mode": {
    "name": "ipython",
    "version": 3
   },
   "file_extension": ".py",
   "mimetype": "text/x-python",
   "name": "python",
   "nbconvert_exporter": "python",
   "pygments_lexer": "ipython3",
   "version": "3.4.4"
  }
 },
 "nbformat": 4,
 "nbformat_minor": 0
}
