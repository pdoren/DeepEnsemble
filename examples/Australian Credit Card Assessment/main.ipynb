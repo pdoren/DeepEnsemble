{
 "cells": [
  {
   "cell_type": "markdown",
   "metadata": {
    "collapsed": true
   },
   "source": [
    "# Australian Credit Card Assessment"
   ]
  },
  {
   "cell_type": "markdown",
   "metadata": {},
   "source": [
    "## Data\n"
   ]
  },
  {
   "cell_type": "code",
   "execution_count": null,
   "metadata": {
    "collapsed": false
   },
   "outputs": [],
   "source": [
    "import theano\n",
    "import theano.tensor as T\n",
    "import numpy as np\n",
    "from theano.sandbox import cuda\n",
    "\n",
    "theano.config.floatX = 'float32'\n",
    "cuda.use('gpu')\n",
    "theano.config.compute_test_value = 'off'\n",
    "\n",
    "path_data = r'data\\australian.dat'\n",
    "data = np.genfromtxt(path_data, delimiter=' ')\n",
    "\n",
    "classes_names = np.asarray(['clase 1', 'clase 2'], dtype='<U10')\n",
    "data_input    = np.asarray(data[:, 0:-1], dtype=theano.config.floatX)\n",
    "data_target   = classes_names[np.asarray(data[:, -1:], dtype=int)]"
   ]
  },
  {
   "cell_type": "markdown",
   "metadata": {},
   "source": [
    "## Training"
   ]
  },
  {
   "cell_type": "code",
   "execution_count": null,
   "metadata": {
    "collapsed": false
   },
   "outputs": [],
   "source": [
    "import sys\n",
    "import time\n",
    "\n",
    "sys.path.insert(0, r'../../')\n",
    "\n",
    "from libml.models.sequential import Sequential\n",
    "from libml.layers.layer import Layer\n",
    "from libml.utils.cost_functions import *\n",
    "from libml.utils.update_functions import *\n",
    "from libml.utils.regularizer_function import *\n",
    "from libml.utils.metrics.classifiermetrics import ClassifierMetrics\n",
    "from sklearn.cross_validation import ShuffleSplit\n",
    "\n",
    "classifier = Sequential(classes_names, \"classifier\")\n",
    "classifier.add_layer(Layer(n_input=data_input.shape[1], n_output=7, activation=T.tanh))\n",
    "classifier.add_layer(Layer(n_output=len(classes_names), activation=T.tanh))\n",
    "classifier.append_cost(mse)\n",
    "classifier.append_reg(L1, lamb=0.002)\n",
    "classifier.append_reg(L2, lamb=0.0005)\n",
    "classifier.set_update(adagrad, initial_learning_rate=0.05)\n",
    "classifier.compile()\n",
    "\n",
    "folds = 3\n",
    "sss = ShuffleSplit(data_input.shape[0], n_iter=folds, test_size=None, train_size=0.6, random_state=0)\n",
    "max_epoch = 300\n",
    "validation_jump = 5\n",
    "\n",
    "# Initialize metrics\n",
    "metrics = ClassifierMetrics(classes_names)\n",
    "\n",
    "for i, (train_set, test_set) in enumerate(sss):                      \n",
    "    # data train and test\n",
    "    input_train = data_input[train_set]\n",
    "    input_test = data_input[test_set]\n",
    "    target_train = data_target[train_set]\n",
    "    target_test = data_target[test_set]\n",
    "\n",
    "    # training\n",
    "    tic = time.time()\n",
    "    train_cost = classifier.fit(input_train, target_train,\n",
    "                                max_epoch=max_epoch, batch_size=32,\n",
    "                                validation_jump=validation_jump, early_stop_th=4)\n",
    "    toc = time.time()\n",
    "\n",
    "    # Compute metrics\n",
    "    metrics.append_prediction(target_test, classifier.predict(input_test))\n",
    "    metrics.append_cost(train_cost)\n",
    "    \n",
    "    # Reset parameters\n",
    "    classifier.reset()\n",
    "\n",
    "    print(\"%d Elapsed time [s]: %f\" % (i, toc - tic))\n",
    "\n",
    "print(\"FINISHED!\")"
   ]
  },
  {
   "cell_type": "markdown",
   "metadata": {
    "collapsed": false
   },
   "source": [
    "## Results"
   ]
  },
  {
   "cell_type": "code",
   "execution_count": null,
   "metadata": {
    "collapsed": false
   },
   "outputs": [],
   "source": [
    "%matplotlib inline\n",
    "import matplotlib.pylab as plt\n",
    "\n",
    "metrics.print()\n",
    "metrics.plot_confusion_matrix()\n",
    "metrics.plot_cost(max_epoch)\n",
    "\n",
    "plt.tight_layout()"
   ]
  },
  {
   "cell_type": "code",
   "execution_count": null,
   "metadata": {
    "collapsed": true
   },
   "outputs": [],
   "source": []
  }
 ],
 "metadata": {
  "kernelspec": {
   "display_name": "Python 3",
   "language": "python",
   "name": "python3"
  },
  "language_info": {
   "codemirror_mode": {
    "name": "ipython",
    "version": 3
   },
   "file_extension": ".py",
   "mimetype": "text/x-python",
   "name": "python",
   "nbconvert_exporter": "python",
   "pygments_lexer": "ipython3",
   "version": "3.4.4"
  }
 },
 "nbformat": 4,
 "nbformat_minor": 0
}
