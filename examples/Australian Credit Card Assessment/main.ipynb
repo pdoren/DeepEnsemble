{
 "cells": [
  {
   "cell_type": "markdown",
   "metadata": {
    "collapsed": true
   },
   "source": [
    "# Australian Credit Card Assessment"
   ]
  },
  {
   "cell_type": "markdown",
   "metadata": {},
   "source": [
    "## Data\n"
   ]
  },
  {
   "cell_type": "code",
   "execution_count": null,
   "metadata": {
    "collapsed": false
   },
   "outputs": [],
   "source": [
    "import time\n",
    "import theano\n",
    "import theano.tensor as T\n",
    "import numpy as np\n",
    "from theano.sandbox import cuda\n",
    "\n",
    "\n",
    "theano.config.floatX = 'float32'\n",
    "cuda.use('gpu')\n",
    "theano.config.compute_test_value = 'off'\n",
    "\n",
    "path_data = r'data\\australian.dat'\n",
    "data = np.genfromtxt(path_data, delimiter=' ')\n",
    "n_classes = 2\n",
    "\n",
    "data_input    = np.asarray(data[:, 0:-1], dtype=theano.config.floatX)\n",
    "data_label    = np.zeros(shape=(len(data[:, -1:]), n_classes), dtype=theano.config.floatX)\n",
    "classes_names = np.asarray(['clase 1', 'clase 2'], dtype='<U10')\n",
    "\n",
    "for i, c in enumerate(data[:, -1:]):\n",
    "    data_label[i, int(c)] = 1.0\n"
   ]
  },
  {
   "cell_type": "markdown",
   "metadata": {},
   "source": [
    "## Training"
   ]
  },
  {
   "cell_type": "code",
   "execution_count": null,
   "metadata": {
    "collapsed": false
   },
   "outputs": [],
   "source": [
    "import sys\n",
    "sys.path.insert(0, r'../../')\n",
    "\n",
    "from libML.nnet import MLP\n",
    "from libML.trainers import TrainerMLP\n",
    "from sklearn.cross_validation import ShuffleSplit\n",
    "from utils.ClassifierMetrics import ClassifierMetrics\n",
    "\n",
    "classifier = MLP(data_input.shape[1], [7], n_classes,\n",
    "                 output_activation=T.tanh,\n",
    "                 hidden_activation=[T.tanh], type_output=\"classifier\")\n",
    "\n",
    "trainerMLP = TrainerMLP(classifier, cost=\"MCC\", lr_adapt=\"ADAGRAD\",\n",
    "                        initial_learning_rate=0.01, initial_momentum_rate=0.9, regularizer=\"L2+L1\")\n",
    "\n",
    "folds = 3\n",
    "sss = ShuffleSplit(data_input.shape[0], n_iter=folds, test_size=None, train_size=0.7, random_state=0)\n",
    "max_epoch = 200\n",
    "validation_jump = 5\n",
    "\n",
    "# Initialize metrics\n",
    "metrics = ClassifierMetrics(classes_names)\n",
    "\n",
    "for i, (train_set, test_set) in enumerate(sss):\n",
    "    # data train and test\n",
    "    data_train = data_input[train_set]\n",
    "    data_test = data_input[test_set]\n",
    "    label_train = data_label[train_set]\n",
    "    label_test = data_label[test_set]\n",
    "\n",
    "    # training\n",
    "    tic = time.time()\n",
    "    train_cost, test_cost, best_iteration, best_test_cost, best_test_output = \\\n",
    "        trainerMLP.trainer(data_train, label_train, data_test, label_test,\n",
    "                           max_epoch=max_epoch, reg_L1=1e-2, reg_L2=1e-3, batch_size=32,\n",
    "                           validation_jump=validation_jump, early_stop_th=4)\n",
    "    toc = time.time()\n",
    "\n",
    "    # Reset parameters\n",
    "    classifier.reset()\n",
    "    \n",
    "    # Compute metrics\n",
    "    predict_test_output = T.argmax(data_label[test_set], axis=1).eval()\n",
    "    metrics.append_pred(classes_names[predict_test_output], classes_names[best_test_output])\n",
    "    metrics.append_cost(train_cost, test_cost)\n",
    "    \n",
    "    print(\"%d Elapsed time [s]: %f\" % (i, toc - tic))\n",
    "    \n",
    "print(\"FINISHED!\")\n"
   ]
  },
  {
   "cell_type": "markdown",
   "metadata": {
    "collapsed": false
   },
   "source": [
    "## Results"
   ]
  },
  {
   "cell_type": "code",
   "execution_count": null,
   "metadata": {
    "collapsed": false
   },
   "outputs": [],
   "source": [
    "%matplotlib inline\n",
    "import matplotlib.pylab as plt\n",
    "\n",
    "metrics.print()\n",
    "metrics.plot_confusion_matrix()\n",
    "metrics.plot_cost(max_epoch)\n",
    "\n",
    "plt.tight_layout()"
   ]
  },
  {
   "cell_type": "code",
   "execution_count": null,
   "metadata": {
    "collapsed": true
   },
   "outputs": [],
   "source": []
  }
 ],
 "metadata": {
  "kernelspec": {
   "display_name": "Python 3",
   "language": "python",
   "name": "python3"
  },
  "language_info": {
   "codemirror_mode": {
    "name": "ipython",
    "version": 3
   },
   "file_extension": ".py",
   "mimetype": "text/x-python",
   "name": "python",
   "nbconvert_exporter": "python",
   "pygments_lexer": "ipython3",
   "version": "3.4.4"
  }
 },
 "nbformat": 4,
 "nbformat_minor": 0
}
